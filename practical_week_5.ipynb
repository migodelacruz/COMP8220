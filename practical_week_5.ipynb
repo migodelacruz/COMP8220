{
  "nbformat": 4,
  "nbformat_minor": 0,
  "metadata": {
    "kernelspec": {
      "display_name": "Python 3",
      "language": "python",
      "name": "python3"
    },
    "language_info": {
      "codemirror_mode": {
        "name": "ipython",
        "version": 3
      },
      "file_extension": ".py",
      "mimetype": "text/x-python",
      "name": "python",
      "nbconvert_exporter": "python",
      "pygments_lexer": "ipython3",
      "version": "3.7.4"
    },
    "colab": {
      "name": "practical-week-5.ipynb",
      "provenance": [],
      "collapsed_sections": [],
      "include_colab_link": true
    }
  },
  "cells": [
    {
      "cell_type": "markdown",
      "metadata": {
        "id": "view-in-github",
        "colab_type": "text"
      },
      "source": [
        "<a href=\"https://colab.research.google.com/github/migodelacruz/COMP8220/blob/master/practical_week_5.ipynb\" target=\"_parent\"><img src=\"https://colab.research.google.com/assets/colab-badge.svg\" alt=\"Open In Colab\"/></a>"
      ]
    },
    {
      "cell_type": "markdown",
      "metadata": {
        "id": "Ji4w3q33fOTK",
        "colab_type": "text"
      },
      "source": [
        "## Random Forests"
      ]
    },
    {
      "cell_type": "markdown",
      "metadata": {
        "id": "DsTTq7Z1fOTM",
        "colab_type": "text"
      },
      "source": [
        "In this practical session you will be using the iris flower dataset to build decision tree and Random Forest classifiers. Also, feature seclection will be performed in order to generate a new model based on the selected features."
      ]
    },
    {
      "cell_type": "code",
      "metadata": {
        "id": "yJ4CXzh-fOTM",
        "colab_type": "code",
        "colab": {}
      },
      "source": [
        "from google.colab import drive\n",
        "drive.mount('/content/gdrive')\n",
        "import os\n",
        "os.chdir('./gdrive/My Drive/COMP8220/')\n",
        "\n",
        "import pandas as pd\n",
        "import matplotlib.pyplot as plt\n",
        "import seaborn as sns\n",
        "from sklearn import datasets\n",
        "from sklearn.ensemble import RandomForestClassifier\n",
        "\n",
        "# Load the iris dataset\n",
        "iris = datasets.load_iris()"
      ],
      "execution_count": 3,
      "outputs": []
    },
    {
      "cell_type": "markdown",
      "metadata": {
        "id": "Za5SoTEmfOTP",
        "colab_type": "text"
      },
      "source": [
        "Print the target names (target_names), the feature names (feature_names), the top five records of the iris flower dataset and the iris labels (0, 1, 2)."
      ]
    },
    {
      "cell_type": "code",
      "metadata": {
        "id": "-OvAWs8ufOTQ",
        "colab_type": "code",
        "colab": {
          "base_uri": "https://localhost:8080/",
          "height": 221
        },
        "outputId": "7d99d6bc-33ab-4ba8-afbe-ad1c35efa690"
      },
      "source": [
        "print(iris.target_names)\n",
        "\n",
        "print(iris.feature_names)\n",
        "\n",
        "print(iris.data[0:5])\n",
        "\n",
        "print(iris.target)"
      ],
      "execution_count": 4,
      "outputs": [
        {
          "output_type": "stream",
          "text": [
            "['setosa' 'versicolor' 'virginica']\n",
            "['sepal length (cm)', 'sepal width (cm)', 'petal length (cm)', 'petal width (cm)']\n",
            "[[5.1 3.5 1.4 0.2]\n",
            " [4.9 3.  1.4 0.2]\n",
            " [4.7 3.2 1.3 0.2]\n",
            " [4.6 3.1 1.5 0.2]\n",
            " [5.  3.6 1.4 0.2]]\n",
            "[0 0 0 0 0 0 0 0 0 0 0 0 0 0 0 0 0 0 0 0 0 0 0 0 0 0 0 0 0 0 0 0 0 0 0 0 0\n",
            " 0 0 0 0 0 0 0 0 0 0 0 0 0 1 1 1 1 1 1 1 1 1 1 1 1 1 1 1 1 1 1 1 1 1 1 1 1\n",
            " 1 1 1 1 1 1 1 1 1 1 1 1 1 1 1 1 1 1 1 1 1 1 1 1 1 1 2 2 2 2 2 2 2 2 2 2 2\n",
            " 2 2 2 2 2 2 2 2 2 2 2 2 2 2 2 2 2 2 2 2 2 2 2 2 2 2 2 2 2 2 2 2 2 2 2 2 2\n",
            " 2 2]\n"
          ],
          "name": "stdout"
        }
      ]
    },
    {
      "cell_type": "markdown",
      "metadata": {
        "id": "1BNypiWqfOTS",
        "colab_type": "text"
      },
      "source": [
        "Create a data frame for the iris flower dataset and use the head() method to display to top n rows of the data frame."
      ]
    },
    {
      "cell_type": "code",
      "metadata": {
        "id": "BO7RGe4-fOTT",
        "colab_type": "code",
        "colab": {
          "base_uri": "https://localhost:8080/",
          "height": 204
        },
        "outputId": "05a81339-cf62-4b8a-8c12-fc29c597f64e"
      },
      "source": [
        "df = pd.DataFrame({\n",
        "    'sepal length':iris.data[:,0],\n",
        "    'sepal width':iris.data[:,1],\n",
        "    'petal length':iris.data[:,2],\n",
        "    'petal width':iris.data[:,3],\n",
        "    'species':iris.target\n",
        "})\n",
        "df.head()"
      ],
      "execution_count": 5,
      "outputs": [
        {
          "output_type": "execute_result",
          "data": {
            "text/html": [
              "<div>\n",
              "<style scoped>\n",
              "    .dataframe tbody tr th:only-of-type {\n",
              "        vertical-align: middle;\n",
              "    }\n",
              "\n",
              "    .dataframe tbody tr th {\n",
              "        vertical-align: top;\n",
              "    }\n",
              "\n",
              "    .dataframe thead th {\n",
              "        text-align: right;\n",
              "    }\n",
              "</style>\n",
              "<table border=\"1\" class=\"dataframe\">\n",
              "  <thead>\n",
              "    <tr style=\"text-align: right;\">\n",
              "      <th></th>\n",
              "      <th>sepal length</th>\n",
              "      <th>sepal width</th>\n",
              "      <th>petal length</th>\n",
              "      <th>petal width</th>\n",
              "      <th>species</th>\n",
              "    </tr>\n",
              "  </thead>\n",
              "  <tbody>\n",
              "    <tr>\n",
              "      <th>0</th>\n",
              "      <td>5.1</td>\n",
              "      <td>3.5</td>\n",
              "      <td>1.4</td>\n",
              "      <td>0.2</td>\n",
              "      <td>0</td>\n",
              "    </tr>\n",
              "    <tr>\n",
              "      <th>1</th>\n",
              "      <td>4.9</td>\n",
              "      <td>3.0</td>\n",
              "      <td>1.4</td>\n",
              "      <td>0.2</td>\n",
              "      <td>0</td>\n",
              "    </tr>\n",
              "    <tr>\n",
              "      <th>2</th>\n",
              "      <td>4.7</td>\n",
              "      <td>3.2</td>\n",
              "      <td>1.3</td>\n",
              "      <td>0.2</td>\n",
              "      <td>0</td>\n",
              "    </tr>\n",
              "    <tr>\n",
              "      <th>3</th>\n",
              "      <td>4.6</td>\n",
              "      <td>3.1</td>\n",
              "      <td>1.5</td>\n",
              "      <td>0.2</td>\n",
              "      <td>0</td>\n",
              "    </tr>\n",
              "    <tr>\n",
              "      <th>4</th>\n",
              "      <td>5.0</td>\n",
              "      <td>3.6</td>\n",
              "      <td>1.4</td>\n",
              "      <td>0.2</td>\n",
              "      <td>0</td>\n",
              "    </tr>\n",
              "  </tbody>\n",
              "</table>\n",
              "</div>"
            ],
            "text/plain": [
              "   sepal length  sepal width  petal length  petal width  species\n",
              "0           5.1          3.5           1.4          0.2        0\n",
              "1           4.9          3.0           1.4          0.2        0\n",
              "2           4.7          3.2           1.3          0.2        0\n",
              "3           4.6          3.1           1.5          0.2        0\n",
              "4           5.0          3.6           1.4          0.2        0"
            ]
          },
          "metadata": {
            "tags": []
          },
          "execution_count": 5
        }
      ]
    },
    {
      "cell_type": "markdown",
      "metadata": {
        "id": "lWCv5WIBfOTX",
        "colab_type": "text"
      },
      "source": [
        "**Task 1**: Separate the columns into features and labels and then split the resulting two variables into a training set (70\\%) and a test set (30\\%)."
      ]
    },
    {
      "cell_type": "code",
      "metadata": {
        "id": "ov8tSKe3fOTY",
        "colab_type": "code",
        "colab": {
          "base_uri": "https://localhost:8080/",
          "height": 34
        },
        "outputId": "74404813-10f5-4d9f-9ab0-88650f67d142"
      },
      "source": [
        "from sklearn.model_selection import train_test_split\n",
        "\n",
        "# your code\n",
        "columns = list(df.columns)\n",
        "print(columns)\n",
        "X = df[columns[0:-1]]\n",
        "y = df['species']\n",
        "\n",
        "X_train, X_test, y_train, y_test = train_test_split(X, y, test_size = 0.3, random_state = 24)"
      ],
      "execution_count": 16,
      "outputs": [
        {
          "output_type": "stream",
          "text": [
            "['sepal length', 'sepal width', 'petal length', 'petal width', 'species']\n"
          ],
          "name": "stdout"
        }
      ]
    },
    {
      "cell_type": "markdown",
      "metadata": {
        "id": "YV7HZddWfOTa",
        "colab_type": "text"
      },
      "source": [
        "**Task 2**: Create a decision tree model on the training data with default settings, and perform prediction on the testing data."
      ]
    },
    {
      "cell_type": "code",
      "metadata": {
        "id": "mSwZXO16fOTb",
        "colab_type": "code",
        "colab": {}
      },
      "source": [
        "from sklearn.tree import DecisionTreeClassifier\n",
        "\n",
        "# your code\n",
        "dt_clf = DecisionTreeClassifier()\n",
        "dt_clf.fit(X_train, y_train)\n",
        "\n",
        "y_pred = dt_clf.predict(X_test)"
      ],
      "execution_count": 17,
      "outputs": []
    },
    {
      "cell_type": "markdown",
      "metadata": {
        "id": "iB3WOoyLfOTd",
        "colab_type": "text"
      },
      "source": [
        "**Task 3**: Import the scikit-learn metrics module and calculate the accuracy of the classifier."
      ]
    },
    {
      "cell_type": "code",
      "metadata": {
        "id": "o7kEC8hZfOTe",
        "colab_type": "code",
        "colab": {
          "base_uri": "https://localhost:8080/",
          "height": 34
        },
        "outputId": "67d741e5-31bf-4b20-9f91-229b40452bb5"
      },
      "source": [
        "from sklearn.metrics import accuracy_score\n",
        "\n",
        "# your code\n",
        "accuracy = accuracy_score(y_test, y_pred)\n",
        "\n",
        "print(\"Accuracy of the Decision Tree Classifier:\", accuracy.round(3))"
      ],
      "execution_count": 19,
      "outputs": [
        {
          "output_type": "stream",
          "text": [
            "Accuracy of the Decision Tree Classifier: 0.978\n"
          ],
          "name": "stdout"
        }
      ]
    },
    {
      "cell_type": "markdown",
      "metadata": {
        "id": "KJ9ifM6OfOTg",
        "colab_type": "text"
      },
      "source": [
        "**Task 4**: Make a predication with the decision tree model for a single instance of your choice."
      ]
    },
    {
      "cell_type": "code",
      "metadata": {
        "id": "aRxDNgO8fOTh",
        "colab_type": "code",
        "colab": {
          "base_uri": "https://localhost:8080/",
          "height": 85
        },
        "outputId": "9fea6926-8ded-4453-8f62-f71b6b113c42"
      },
      "source": [
        "# your code\n",
        "import random\n",
        "\n",
        "test_index = random.choice(X_test.index.values)\n",
        "print(test_index, \"\\n\")\n",
        "\n",
        "single_X = X_test.loc[[test_index]]\n",
        "single_y = y_test[test_index]\n",
        "\n",
        "single_pred = dt_clf.predict(single_X)\n",
        "\n",
        "print(\"Prediction is class:\", single_pred)\n",
        "print(\"Actual label:\", single_y)"
      ],
      "execution_count": 44,
      "outputs": [
        {
          "output_type": "stream",
          "text": [
            "103 \n",
            "\n",
            "Prediction is class: [2]\n",
            "Actual label: 2\n"
          ],
          "name": "stdout"
        }
      ]
    },
    {
      "cell_type": "markdown",
      "metadata": {
        "id": "Y_hdus02fOTj",
        "colab_type": "text"
      },
      "source": [
        "**Task 5**: Create a Random Forest classifier with 100 trees in the forest, train the model on the training set and perform predictions on the test set. Also, display the accuracy."
      ]
    },
    {
      "cell_type": "code",
      "metadata": {
        "id": "-_McmjfWfOTj",
        "colab_type": "code",
        "colab": {
          "base_uri": "https://localhost:8080/",
          "height": 34
        },
        "outputId": "42410f5a-77c6-4689-a8a5-057216b83fc5"
      },
      "source": [
        "# your code\n",
        "rf_clf = RandomForestClassifier()\n",
        "rf_clf.fit(X_train, y_train)\n",
        "\n",
        "y_pred = rf_clf.predict(X_test)\n",
        "\n",
        "print(\"Accuracy of the Random Forest Classifier:\", accuracy.round(3))"
      ],
      "execution_count": 45,
      "outputs": [
        {
          "output_type": "stream",
          "text": [
            "Accuracy of the Random Forest Classifier: 0.978\n"
          ],
          "name": "stdout"
        }
      ]
    },
    {
      "cell_type": "markdown",
      "metadata": {
        "id": "IpG7s8O4fOTm",
        "colab_type": "text"
      },
      "source": [
        "**Task 6**: Make a predication for a single instance of your choice. Compare the results from the decision tree classifier and that from the random forest. "
      ]
    },
    {
      "cell_type": "code",
      "metadata": {
        "id": "Y4CEOixXfOTn",
        "colab_type": "code",
        "colab": {
          "base_uri": "https://localhost:8080/",
          "height": 51
        },
        "outputId": "7be79a68-dcbe-467e-deec-08a21bad737e"
      },
      "source": [
        "# Use the same single instance used in the Decision Tree Classifier for RF Classifier\n",
        "single_pred = rf_clf.predict(single_X)\n",
        "\n",
        "print(\"Prediction is class:\", single_pred)\n",
        "print(\"Actual label:\", single_y)"
      ],
      "execution_count": 46,
      "outputs": [
        {
          "output_type": "stream",
          "text": [
            "Prediction is class: [2]\n",
            "Actual label: 2\n"
          ],
          "name": "stdout"
        }
      ]
    },
    {
      "cell_type": "markdown",
      "metadata": {
        "id": "hgMKtqmBfOTq",
        "colab_type": "text"
      },
      "source": [
        "Explore how you can display the feature importance scores of the classifier (using the feature_importances_ attribute)."
      ]
    },
    {
      "cell_type": "code",
      "metadata": {
        "id": "QiD_iVsbfOTr",
        "colab_type": "code",
        "colab": {
          "base_uri": "https://localhost:8080/",
          "height": 204
        },
        "outputId": "e82e1a94-4161-4900-b662-4bc78fb60363"
      },
      "source": [
        "dt_feature_importance = pd.Series(dt_clf.feature_importances_,index=iris.feature_names).sort_values(ascending=False)\n",
        "print(\"Decision Tree CLF Feature Importance:\", dt_feature_importance)\n",
        "\n",
        "rf_feature_importance = pd.Series(rf_clf.feature_importances_,index=iris.feature_names).sort_values(ascending=False)\n",
        "print(\"\\nRandom Forest CLF Feature Importance:\", rf_feature_importance)"
      ],
      "execution_count": 50,
      "outputs": [
        {
          "output_type": "stream",
          "text": [
            "Decision Tree CLF Feature Importance: petal length (cm)    0.566660\n",
            "petal width (cm)     0.397538\n",
            "sepal width (cm)     0.035802\n",
            "sepal length (cm)    0.000000\n",
            "dtype: float64\n",
            "\n",
            "Random Forest CLF Feature Importance: petal width (cm)     0.489543\n",
            "petal length (cm)    0.425287\n",
            "sepal length (cm)    0.065285\n",
            "sepal width (cm)     0.019884\n",
            "dtype: float64\n"
          ],
          "name": "stdout"
        }
      ]
    },
    {
      "cell_type": "markdown",
      "metadata": {
        "id": "02OlHqyxfOTu",
        "colab_type": "text"
      },
      "source": [
        "Create a bar plot using the seaborn library and visualise the feature importance score."
      ]
    },
    {
      "cell_type": "code",
      "metadata": {
        "id": "Etd9nyj3fOTu",
        "colab_type": "code",
        "colab": {
          "base_uri": "https://localhost:8080/",
          "height": 573
        },
        "outputId": "dccd47b8-ada2-45d0-ee1b-06d1d9a82616"
      },
      "source": [
        "%matplotlib inline\n",
        "\n",
        "sns.barplot(x=dt_feature_importance, y=dt_feature_importance.index)\n",
        "\n",
        "plt.xlabel('Feature Importance Score')\n",
        "plt.ylabel('Features')\n",
        "plt.title(\"Visualizing Important Features (Decision Tree)\")\n",
        "plt.show()\n",
        "\n",
        "sns.barplot(x=rf_feature_importance, y=rf_feature_importance.index)\n",
        "\n",
        "plt.xlabel('Feature Importance Score')\n",
        "plt.ylabel('Features')\n",
        "plt.title(\"Visualizing Important Features (Random Forest)\")\n",
        "plt.show()"
      ],
      "execution_count": 53,
      "outputs": [
        {
          "output_type": "display_data",
          "data": {
            "image/png": "[encoded data removed]",
            "text/plain": [
              "<Figure size 432x288 with 1 Axes>"
            ]
          },
          "metadata": {
            "tags": [],
            "needs_background": "light"
          }
        },
        {
          "output_type": "display_data",
          "data": {
            "image/png": "[encoded data removed]",
            "text/plain": [
              "<Figure size 432x288 with 1 Axes>"
            ]
          },
          "metadata": {
            "tags": [],
            "needs_background": "light"
          }
        }
      ]
    },
    {
      "cell_type": "markdown",
      "metadata": {
        "id": "JIcHHfG5fOT1",
        "colab_type": "text"
      },
      "source": [
        "**Task 7**: Remove the \"sepal width\" feature because this feature has very low importance. Select the 3 remaining features and split the dataset into features and labels. Produce again training set (70%) and a test set (30%). "
      ]
    },
    {
      "cell_type": "code",
      "metadata": {
        "id": "6P-awRY3fOT2",
        "colab_type": "code",
        "colab": {}
      },
      "source": [
        "# your code\n",
        "X_new = df[['petal width', 'petal length', 'sepal length']]\n",
        "y = df['species']\n",
        "\n",
        "X_train, X_test, y_train, y_test = train_test_split(X_new, y, test_size = 0.3, random_state = 24)"
      ],
      "execution_count": 54,
      "outputs": []
    },
    {
      "cell_type": "markdown",
      "metadata": {
        "id": "RVzmva41fOT6",
        "colab_type": "text"
      },
      "source": [
        "**Task 8**: Generate a model using a decision tree classifier as before, train the model using the new training set, perform predications on the new test set and display the accuracy of the new classifier. Compare with the case with orginal features."
      ]
    },
    {
      "cell_type": "code",
      "metadata": {
        "id": "2AzMU8jGfOT6",
        "colab_type": "code",
        "colab": {
          "base_uri": "https://localhost:8080/",
          "height": 34
        },
        "outputId": "c957a850-f79b-41a6-836f-b6be51a1c71b"
      },
      "source": [
        "# your code\n",
        "dt_new_clf = DecisionTreeClassifier()\n",
        "dt_new_clf.fit(X_train, y_train)\n",
        "\n",
        "y_new_pred = dt_new_clf.predict(X_test)\n",
        "accuracy = accuracy_score(y_test, y_new_pred)\n",
        "\n",
        "print(\"Accuracy of the Decision Tree Classifier (without Sepal Width):\", accuracy.round(3))"
      ],
      "execution_count": 56,
      "outputs": [
        {
          "output_type": "stream",
          "text": [
            "Accuracy of the Decision Tree Classifier (without Sepal Width): 0.978\n"
          ],
          "name": "stdout"
        }
      ]
    },
    {
      "cell_type": "markdown",
      "metadata": {
        "id": "C3ny7LH8fOT9",
        "colab_type": "text"
      },
      "source": [
        "**Task 9:** Generate a model using a Random Forest classifier as before, train the model using the new training set, perform predications on the new test set and display the accuracy of the new classifier. Compare with the case with orginal features."
      ]
    },
    {
      "cell_type": "code",
      "metadata": {
        "id": "UNggzl5yfOT9",
        "colab_type": "code",
        "colab": {
          "base_uri": "https://localhost:8080/",
          "height": 34
        },
        "outputId": "4362cdb3-02a9-4f55-9c77-9ad6f0303296"
      },
      "source": [
        "# your code\n",
        "rf_new_clf = DecisionTreeClassifier()\n",
        "rf_new_clf.fit(X_train, y_train)\n",
        "\n",
        "y_new_pred = rf_new_clf.predict(X_test)\n",
        "accuracy = accuracy_score(y_test, y_new_pred)\n",
        "\n",
        "print(\"Accuracy of the Random Forest Classifier (without Sepal Width):\", accuracy.round(3))"
      ],
      "execution_count": 57,
      "outputs": [
        {
          "output_type": "stream",
          "text": [
            "Accuracy of the Random Forest Classifier (without Sepal Width): 0.978\n"
          ],
          "name": "stdout"
        }
      ]
    },
    {
      "cell_type": "code",
      "metadata": {
        "id": "jYdg_TMnfOT_",
        "colab_type": "code",
        "colab": {}
      },
      "source": [
        ""
      ],
      "execution_count": null,
      "outputs": []
    }
  ]
}