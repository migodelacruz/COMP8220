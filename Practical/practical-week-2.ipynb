{
 "cells": [
  {
   "cell_type": "markdown",
   "metadata": {},
   "source": [
    "## Workflow of ML Project"
   ]
  },
  {
   "cell_type": "markdown",
   "metadata": {},
   "source": [
    "In this practical class, we simulate the core steps in the workflow of a machine learning project, including problem framing, real data collection, exploratory analysis, data pre-processing, machine learning model training and tuning."
   ]
  },
  {
   "cell_type": "markdown",
   "metadata": {},
   "source": [
    "### Problem framing"
   ]
  },
  {
   "cell_type": "markdown",
   "metadata": {},
   "source": [
    "Property buying and selling play a very important role in investment for many of us. The property market prices  are hard to predict due to the variable nature of aucktion and many other factors. In this project, we attempt to make use of recent historical transaction information to build a predictive model based on some features of property such as area, number of bedrooms, etc."
   ]
  },
  {
   "cell_type": "markdown",
   "metadata": {},
   "source": [
    "### Data Collection"
   ]
  },
  {
   "cell_type": "markdown",
   "metadata": {},
   "source": [
    "In this project, we will collect the historical property sold prices from a website called Domain: https://www.domain.com.au/?mode=sold."
   ]
  },
  {
   "cell_type": "markdown",
   "metadata": {},
   "source": [
    "Task 1: You are required to manually collect the price information for at least 10 houses for subsequent data analysis and predictive model training/testing. Specific instruction:\n",
    "* Clicking the above Domain URL. In the search box, write down the suburb you are living now. To simplify the task, we assume that you are just interested in property prices of the subburb you are living.\n",
    "* To set the Filters, you just need to choose 'House' for 'Property Types'. This is to limit our discussion on the house prices only, further simplifying the problem.\n",
    "* Leave other Filters options 'Any', including # bedrooms, # bathrooms, and # parking.\n",
    "* After clicking 'Search', you will get a list of sold property items.\n",
    "* You need to manually record the following information\n",
    "#### Date\n",
    "#### Address\n",
    "#### number of bedrooms\n",
    "#### number of bathrooms\n",
    "#### number of car parking\n",
    "#### Land area\n",
    "#### Sold price\n",
    "\n",
    "\n",
    "* Collect such information for at least 10 listed properties. For example, you can collect the information for the top-10 listed sold properties. If the informaiton of a feature is missing, you could just simply use '?' a a placeholder\n",
    "* The data are stored in a CSV (Comma-Separated Value) file.\n",
    "\n",
    "* (Optional for interested students) You can actually collect much more data automatically by calling the APIs provided by Domain: https://developer.domain.com.au/docs/latest/introduction. A video showing how to achieve this: https://www.youtube.com/watch?v=_OJBOy00IJ0. "
   ]
  },
  {
   "cell_type": "code",
   "execution_count": 1,
   "metadata": {},
   "outputs": [],
   "source": [
    "# Display your collected data using Pandas.\n",
    "\n"
   ]
  },
  {
   "cell_type": "markdown",
   "metadata": {},
   "source": [
    "### Exploratory Analysis and Visualization"
   ]
  },
  {
   "cell_type": "markdown",
   "metadata": {},
   "source": [
    "Task 2: Show the statistical summary for each numerical attributes, including COUNT, MEAN, STD, MIN, MAX, MEDIAN."
   ]
  },
  {
   "cell_type": "code",
   "execution_count": null,
   "metadata": {},
   "outputs": [],
   "source": [
    "# Use the describe() method of DataFrame in Pandas.\n"
   ]
  },
  {
   "cell_type": "markdown",
   "metadata": {},
   "source": [
    "Task 3 (optional): Plot the histogram for each numercial attribute"
   ]
  },
  {
   "cell_type": "code",
   "execution_count": null,
   "metadata": {},
   "outputs": [],
   "source": [
    "# Use the hist() method of DataFrame in Pandas.\n"
   ]
  },
  {
   "cell_type": "markdown",
   "metadata": {},
   "source": [
    "Task 4: Visulize the relationship between each feature and the property sold price, to study the correlation between the features and the property price."
   ]
  },
  {
   "cell_type": "code",
   "execution_count": null,
   "metadata": {},
   "outputs": [],
   "source": [
    "# Scatter plot with a feature as the X axis and the property price as the Y axis.\n",
    "# Matplotlib will be involved.\n"
   ]
  },
  {
   "cell_type": "markdown",
   "metadata": {},
   "source": [
    "### Data Pre-processing"
   ]
  },
  {
   "cell_type": "markdown",
   "metadata": {},
   "source": [
    "Task 5 (optional): Missing value imputation. If your collected dataset has missing values, you need to handle the missing values by imputation. Refer to https://scikit-learn.org/stable/modules/impute.html#impute for details about how to acheive this in Scikit-learn."
   ]
  },
  {
   "cell_type": "code",
   "execution_count": null,
   "metadata": {},
   "outputs": [],
   "source": [
    "# Missing value handling\n"
   ]
  },
  {
   "cell_type": "markdown",
   "metadata": {},
   "source": [
    "Task 6: Feature scaling. It can be seen that the property features have different scales. To cater for more machine learning models, we need to scale the features to make each feature can be treated equally. Refer to https://scikit-learn.org/stable/modules/preprocessing.html#standardization-or-mean-removal-and-variance-scaling  for more details about how to achieve feature scaling."
   ]
  },
  {
   "cell_type": "code",
   "execution_count": null,
   "metadata": {},
   "outputs": [],
   "source": [
    "# Use the Min-Max feature scaling to transform the original data\n"
   ]
  },
  {
   "cell_type": "markdown",
   "metadata": {},
   "source": [
    "### Model Training\n",
    "After pre-processing the data, we can choose and build some machine learning models from the data. In our project, we will make use of the linear regression models to help predict a property price."
   ]
  },
  {
   "cell_type": "markdown",
   "metadata": {},
   "source": [
    "Task 7 (checkpoint): To begin with, we just use a single feature (a.k.a., predictor or independent variable) and the property price together to build a very simple linear regression model. Specifially, we use the Land Area feature for this purpose. Then, the linear regress model is $y(w_0, w_1, x)=w_0+w_1x$. We need to learn $w_0$ and $w_1$ from the data. Refer to https://scikit-learn.org/stable/auto_examples/linear_model/plot_ols.html#sphx-glr-auto-examples-linear-model-plot-ols-py for an example.\n",
    "\n",
    "You need to have the following steps:\n",
    "#### Select the feature and the target attribute to create the dataset\n",
    "#### Split the data into a training dataset and a testing dataset. Given the small size of your collected dataset, you can just have one data instance in the testing dataset.\n",
    "#### Building the linear regression model on the training dataset\n",
    "#### Testing the model (you need to choose a performance measure, e.g., RSME)\n",
    "#### Visulize the learned model (essentially a line) with the data instances.\n"
   ]
  },
  {
   "cell_type": "code",
   "execution_count": null,
   "metadata": {},
   "outputs": [],
   "source": [
    "# Build, test, and visualize a simple linear regression model here\n"
   ]
  },
  {
   "cell_type": "markdown",
   "metadata": {},
   "source": [
    "Task 8: Build the linear regression model with multiple features. The single feature above might just offer limited information for the prediction. To improve the predication performance, we can include more features/predictors. So, in this task, you are required to inlcude other features such as the number of bedrooms, the number of bathrooms, and the number of car parking. Follow the same procedure described above except the visualization step. "
   ]
  },
  {
   "cell_type": "code",
   "execution_count": null,
   "metadata": {},
   "outputs": [],
   "source": [
    "# Build and test the linear regression model with multiple features\n"
   ]
  },
  {
   "cell_type": "markdown",
   "metadata": {},
   "source": [
    "### Model Fine-tuning"
   ]
  },
  {
   "cell_type": "markdown",
   "metadata": {},
   "source": [
    "Task 9: Use the 5-fold cross validation to train the model and report the averaged testing error. "
   ]
  },
  {
   "cell_type": "code",
   "execution_count": null,
   "metadata": {},
   "outputs": [],
   "source": [
    "# Apply 5-fold cross validation to report a more robudt testing error\n"
   ]
  },
  {
   "cell_type": "markdown",
   "metadata": {},
   "source": [
    "Task 10 (Optional): Build a ridge regression model from the data. Refer to https://scikit-learn.org/stable/modules/linear_model.html#ridge-regression-and-classification for more details about the ridge regression model. Tune the complexity parameter to figure out optimal value via gridsearch with cross validation (refer to https://scikit-learn.org/stable/modules/grid_search.html#exhaustive-grid-search). "
   ]
  },
  {
   "cell_type": "code",
   "execution_count": null,
   "metadata": {},
   "outputs": [],
   "source": [
    "# Build a Ridge regression model from the data and tuning the parameter with Grid Search\n"
   ]
  },
  {
   "cell_type": "markdown",
   "metadata": {},
   "source": [
    "### Model Deployment and Maintenance\n",
    "You can integrate the trained more with a web service. You can also update the model by retraining the model with new data."
   ]
  },
  {
   "cell_type": "code",
   "execution_count": null,
   "metadata": {},
   "outputs": [],
   "source": []
  }
 ],
 "metadata": {
  "kernelspec": {
   "display_name": "Python 3",
   "language": "python",
   "name": "python3"
  },
  "language_info": {
   "codemirror_mode": {
    "name": "ipython",
    "version": 3
   },
   "file_extension": ".py",
   "mimetype": "text/x-python",
   "name": "python",
   "nbconvert_exporter": "python",
   "pygments_lexer": "ipython3",
   "version": "3.7.4"
  }
 },
 "nbformat": 4,
 "nbformat_minor": 2
}
