{
  "nbformat": 4,
  "nbformat_minor": 0,
  "metadata": {
    "kernelspec": {
      "display_name": "Python 3",
      "language": "python",
      "name": "python3"
    },
    "language_info": {
      "codemirror_mode": {
        "name": "ipython",
        "version": 3
      },
      "file_extension": ".py",
      "mimetype": "text/x-python",
      "name": "python",
      "nbconvert_exporter": "python",
      "pygments_lexer": "ipython3",
      "version": "3.7.4"
    },
    "colab": {
      "name": "practical-week-2.ipynb",
      "provenance": [],
      "include_colab_link": true
    }
  },
  "cells": [
    {
      "cell_type": "markdown",
      "metadata": {
        "id": "view-in-github",
        "colab_type": "text"
      },
      "source": [
        "<a href=\"https://colab.research.google.com/github/migodelacruz/COMP8220/blob/master/practical_week_2.ipynb\" target=\"_parent\"><img src=\"https://colab.research.google.com/assets/colab-badge.svg\" alt=\"Open In Colab\"/></a>"
      ]
    },
    {
      "cell_type": "code",
      "metadata": {
        "id": "RgIzVqIKoanT",
        "colab_type": "code",
        "colab": {
          "base_uri": "https://localhost:8080/",
          "height": 34
        },
        "outputId": "834fa86e-abc8-4fb7-e438-432a6531d94a"
      },
      "source": [
        "from google.colab import drive\n",
        "drive.mount('/content/gdrive')\n"
      ],
      "execution_count": 17,
      "outputs": [
        {
          "output_type": "stream",
          "text": [
            "Drive already mounted at /content/gdrive; to attempt to forcibly remount, call drive.mount(\"/content/gdrive\", force_remount=True).\n"
          ],
          "name": "stdout"
        }
      ]
    },
    {
      "cell_type": "code",
      "metadata": {
        "id": "fQuNJglIpTYS",
        "colab_type": "code",
        "colab": {
          "base_uri": "https://localhost:8080/",
          "height": 180
        },
        "outputId": "477b1b43-751a-40b1-9e1a-bab50c989bac"
      },
      "source": [
        "import os\n",
        "os.chdir('./gdrive/My Drive/COMP8220/Practical/')"
      ],
      "execution_count": 18,
      "outputs": [
        {
          "output_type": "error",
          "ename": "FileNotFoundError",
          "evalue": "ignored",
          "traceback": [
            "\u001b[0;31m---------------------------------------------------------------------------\u001b[0m",
            "\u001b[0;31mFileNotFoundError\u001b[0m                         Traceback (most recent call last)",
            "\u001b[0;32m<ipython-input-18-78b38114ce54>\u001b[0m in \u001b[0;36m<module>\u001b[0;34m()\u001b[0m\n\u001b[1;32m      1\u001b[0m \u001b[0;32mimport\u001b[0m \u001b[0mos\u001b[0m\u001b[0;34m\u001b[0m\u001b[0;34m\u001b[0m\u001b[0m\n\u001b[0;32m----> 2\u001b[0;31m \u001b[0mos\u001b[0m\u001b[0;34m.\u001b[0m\u001b[0mchdir\u001b[0m\u001b[0;34m(\u001b[0m\u001b[0;34m'./gdrive/My Drive/COMP8220/Practical/'\u001b[0m\u001b[0;34m)\u001b[0m\u001b[0;34m\u001b[0m\u001b[0;34m\u001b[0m\u001b[0m\n\u001b[0m",
            "\u001b[0;31mFileNotFoundError\u001b[0m: [Errno 2] No such file or directory: './gdrive/My Drive/COMP8220/Practical/'"
          ]
        }
      ]
    },
    {
      "cell_type": "markdown",
      "metadata": {
        "id": "tbYOxjfnn0df",
        "colab_type": "text"
      },
      "source": [
        "## Workflow of ML Project"
      ]
    },
    {
      "cell_type": "markdown",
      "metadata": {
        "id": "KjTwBjOqn0dh",
        "colab_type": "text"
      },
      "source": [
        "In this practical class, we simulate the core steps in the workflow of a machine learning project, including problem framing, real data collection, exploratory analysis, data pre-processing, machine learning model training and tuning."
      ]
    },
    {
      "cell_type": "markdown",
      "metadata": {
        "id": "UcaxVM5Zn0dk",
        "colab_type": "text"
      },
      "source": [
        "### Problem framing"
      ]
    },
    {
      "cell_type": "markdown",
      "metadata": {
        "id": "XRMeh5UMn0dl",
        "colab_type": "text"
      },
      "source": [
        "Property buying and selling play a very important role in investment for many of us. The property market prices  are hard to predict due to the variable nature of aucktion and many other factors. In this project, we attempt to make use of recent historical transaction information to build a predictive model based on some features of property such as area, number of bedrooms, etc."
      ]
    },
    {
      "cell_type": "markdown",
      "metadata": {
        "id": "_iwGNu1_n0dl",
        "colab_type": "text"
      },
      "source": [
        "### Data Collection"
      ]
    },
    {
      "cell_type": "markdown",
      "metadata": {
        "id": "K6F2edHun0dm",
        "colab_type": "text"
      },
      "source": [
        "In this project, we will collect the historical property sold prices from a website called Domain: https://www.domain.com.au/?mode=sold."
      ]
    },
    {
      "cell_type": "markdown",
      "metadata": {
        "id": "r5Hrwi3tn0dn",
        "colab_type": "text"
      },
      "source": [
        "Task 1: You are required to manually collect the price information for at least 10 houses for subsequent data analysis and predictive model training/testing. Specific instruction:\n",
        "* Clicking the above Domain URL. In the search box, write down the suburb you are living now. To simplify the task, we assume that you are just interested in property prices of the subburb you are living.\n",
        "* To set the Filters, you just need to choose 'House' for 'Property Types'. This is to limit our discussion on the house prices only, further simplifying the problem.\n",
        "* Leave other Filters options 'Any', including # bedrooms, # bathrooms, and # parking.\n",
        "* After clicking 'Search', you will get a list of sold property items.\n",
        "* You need to manually record the following information\n",
        "#### Date\n",
        "#### Address\n",
        "#### number of bedrooms\n",
        "#### number of bathrooms\n",
        "#### number of car parking\n",
        "#### Land area\n",
        "#### Sold price\n",
        "\n",
        "\n",
        "* Collect such information for at least 10 listed properties. For example, you can collect the information for the top-10 listed sold properties. If the informaiton of a feature is missing, you could just simply use '?' a a placeholder\n",
        "* The data are stored in a CSV (Comma-Separated Value) file.\n",
        "\n",
        "* (Optional for interested students) You can actually collect much more data automatically by calling the APIs provided by Domain: https://developer.domain.com.au/docs/latest/introduction. A video showing how to achieve this: https://www.youtube.com/watch?v=_OJBOy00IJ0. "
      ]
    },
    {
      "cell_type": "code",
      "metadata": {
        "id": "QifOdcWdn9ku",
        "colab_type": "code",
        "colab": {}
      },
      "source": [
        "import json\n",
        "import requests\n",
        "import pandas as pd\n",
        "import numpy as np\n",
        "\n",
        "import matplotlib.pyplot as plt\n",
        "import seaborn as sns\n",
        "%matplotlib inline\n",
        "\n",
        "sns.set_style('darkgrid')"
      ],
      "execution_count": 57,
      "outputs": []
    },
    {
      "cell_type": "code",
      "metadata": {
        "id": "ZMI5zsbfn-AR",
        "colab_type": "code",
        "colab": {}
      },
      "source": [
        "# Configure Domain API parameters\n",
        "\n",
        "client_id = 'client_a1d34e9483ecf71c98ff5afdc883f774'\n",
        "client_secret = 'secret_3e6a94f6e75f069ef9d584459d75a59f'\n",
        "scope = ['api_properties_read','api_addresslocators_read']\n",
        "auth_url = 'https://auth.domain.com.au/v1/connect/token'\n",
        "address_endpoint = 'https://api.domain.com.au/v1/addressLocators/'\n",
        "properties_endpoint = 'https://api.domain.com.au/v1/properties/'\n",
        "\n",
        "response = requests.post(auth_url, data = {\n",
        "    'client_id': client_id,\n",
        "    'client_secret': client_secret,\n",
        "    'grant_type': 'client_credentials',\n",
        "    'scope': scope,\n",
        "    'Content-Type': 'text/json'\n",
        "})\n",
        "\n",
        "json_res = response.json()\n",
        "access_token = json_res['access_token']\n",
        "\n",
        "auth = {'Authorization':'Bearer ' + access_token}"
      ],
      "execution_count": null,
      "outputs": []
    },
    {
      "cell_type": "code",
      "metadata": {
        "id": "dad9XSpSn_wn",
        "colab_type": "code",
        "colab": {
          "base_uri": "https://localhost:8080/",
          "height": 34
        },
        "outputId": "aad90fb3-86ad-45dd-d625-e504bb67a1f6"
      },
      "source": [
        "# Access Domain API Endpoint to retrieve 10 property IDs for Westmead 2145\n",
        "\n",
        "url = properties_endpoint + '_suggest/?terms=\\'Westmead 2145\\'&pageSize=10&channel=Residential'\n",
        "\n",
        "resl = requests.get(url, headers=auth)\n",
        "\n",
        "r = resl.json()\n",
        "\n",
        "property_ids = []\n",
        "for listing in r:\n",
        "  property_ids.append(listing['id'])\n",
        "\n",
        "print(property_ids)"
      ],
      "execution_count": null,
      "outputs": [
        {
          "output_type": "stream",
          "text": [
            "['CN-0619-ZB', 'AJ-4237-EJ', 'VV-6403-QE', 'BT-3779-ZT', 'ON-3347-YZ', 'UZ-6737-WY', 'BZ-5951-FI', 'KU-4472-NO', 'RO-7848-PN', 'MY-3820-AN']\n"
          ],
          "name": "stdout"
        }
      ]
    },
    {
      "cell_type": "code",
      "metadata": {
        "id": "NdeEor5IoBFg",
        "colab_type": "code",
        "colab": {
          "base_uri": "https://localhost:8080/",
          "height": 390
        },
        "outputId": "7cb276c7-185d-4c84-e7a7-a5e2da6f6a9a"
      },
      "source": [
        "# Display your collected data using Pandas.\n",
        "\n",
        "properties = pd.read_csv('Westmead2145.csv', na_values='?')\n",
        "\n",
        "properties"
      ],
      "execution_count": 30,
      "outputs": [
        {
          "output_type": "execute_result",
          "data": {
            "text/html": [
              "<div>\n",
              "<style scoped>\n",
              "    .dataframe tbody tr th:only-of-type {\n",
              "        vertical-align: middle;\n",
              "    }\n",
              "\n",
              "    .dataframe tbody tr th {\n",
              "        vertical-align: top;\n",
              "    }\n",
              "\n",
              "    .dataframe thead th {\n",
              "        text-align: right;\n",
              "    }\n",
              "</style>\n",
              "<table border=\"1\" class=\"dataframe\">\n",
              "  <thead>\n",
              "    <tr style=\"text-align: right;\">\n",
              "      <th></th>\n",
              "      <th>Date</th>\n",
              "      <th>Address</th>\n",
              "      <th>Bedrooms</th>\n",
              "      <th>Bathrooms</th>\n",
              "      <th>ParkingSpace</th>\n",
              "      <th>LandArea</th>\n",
              "      <th>SoldPrice</th>\n",
              "    </tr>\n",
              "  </thead>\n",
              "  <tbody>\n",
              "    <tr>\n",
              "      <th>0</th>\n",
              "      <td>27/06/2020</td>\n",
              "      <td>8 Macarthur Crescent, Westmead NSW 2145</td>\n",
              "      <td>3</td>\n",
              "      <td>1</td>\n",
              "      <td>1</td>\n",
              "      <td>541.0</td>\n",
              "      <td>1010000</td>\n",
              "    </tr>\n",
              "    <tr>\n",
              "      <th>1</th>\n",
              "      <td>17/03/2020</td>\n",
              "      <td>39 Grand Avenue, Westmead NSW 2145</td>\n",
              "      <td>4</td>\n",
              "      <td>2</td>\n",
              "      <td>1</td>\n",
              "      <td>650.0</td>\n",
              "      <td>1650000</td>\n",
              "    </tr>\n",
              "    <tr>\n",
              "      <th>2</th>\n",
              "      <td>16/03/2020</td>\n",
              "      <td>7/163-171 Hawkesbury Road, Westmead NSW 2145</td>\n",
              "      <td>2</td>\n",
              "      <td>2</td>\n",
              "      <td>1</td>\n",
              "      <td>137.0</td>\n",
              "      <td>603000</td>\n",
              "    </tr>\n",
              "    <tr>\n",
              "      <th>3</th>\n",
              "      <td>29/02/2020</td>\n",
              "      <td>14 Booth Street, Westmead NSW 2145</td>\n",
              "      <td>4</td>\n",
              "      <td>2</td>\n",
              "      <td>1</td>\n",
              "      <td>710.0</td>\n",
              "      <td>1485000</td>\n",
              "    </tr>\n",
              "    <tr>\n",
              "      <th>4</th>\n",
              "      <td>30/11/2019</td>\n",
              "      <td>51 Grand Avenue, Westmead NSW 214</td>\n",
              "      <td>3</td>\n",
              "      <td>1</td>\n",
              "      <td>1</td>\n",
              "      <td>650.0</td>\n",
              "      <td>1480000</td>\n",
              "    </tr>\n",
              "    <tr>\n",
              "      <th>5</th>\n",
              "      <td>23/11/2019</td>\n",
              "      <td>54 Bridge Road, Westmead NSW 2145</td>\n",
              "      <td>4</td>\n",
              "      <td>1</td>\n",
              "      <td>2</td>\n",
              "      <td>1404.0</td>\n",
              "      <td>1670000</td>\n",
              "    </tr>\n",
              "    <tr>\n",
              "      <th>6</th>\n",
              "      <td>09/11/2019</td>\n",
              "      <td>48 Good Street, Westmead NSW 2145</td>\n",
              "      <td>3</td>\n",
              "      <td>1</td>\n",
              "      <td>1</td>\n",
              "      <td>708.0</td>\n",
              "      <td>1440000</td>\n",
              "    </tr>\n",
              "    <tr>\n",
              "      <th>7</th>\n",
              "      <td>02/11/2019</td>\n",
              "      <td>76 Bridge Road, Westmead NSW 2145</td>\n",
              "      <td>5</td>\n",
              "      <td>3</td>\n",
              "      <td>2</td>\n",
              "      <td>360.0</td>\n",
              "      <td>1010000</td>\n",
              "    </tr>\n",
              "    <tr>\n",
              "      <th>8</th>\n",
              "      <td>18/10/2019</td>\n",
              "      <td>2/50 Alexandra Avenue, Westmead NSW 2145</td>\n",
              "      <td>2</td>\n",
              "      <td>1</td>\n",
              "      <td>1</td>\n",
              "      <td>NaN</td>\n",
              "      <td>420000</td>\n",
              "    </tr>\n",
              "    <tr>\n",
              "      <th>9</th>\n",
              "      <td>12/10/2019</td>\n",
              "      <td>64 Hawkesbury Road, Westmead NSW 2145</td>\n",
              "      <td>3</td>\n",
              "      <td>1</td>\n",
              "      <td>1</td>\n",
              "      <td>917.0</td>\n",
              "      <td>1308000</td>\n",
              "    </tr>\n",
              "    <tr>\n",
              "      <th>10</th>\n",
              "      <td>12/09/2019</td>\n",
              "      <td>11 Houison Street, Westmead NSW 2145</td>\n",
              "      <td>2</td>\n",
              "      <td>1</td>\n",
              "      <td>2</td>\n",
              "      <td>923.0</td>\n",
              "      <td>1560000</td>\n",
              "    </tr>\n",
              "  </tbody>\n",
              "</table>\n",
              "</div>"
            ],
            "text/plain": [
              "          Date  ... SoldPrice\n",
              "0   27/06/2020  ...   1010000\n",
              "1   17/03/2020  ...   1650000\n",
              "2   16/03/2020  ...    603000\n",
              "3   29/02/2020  ...   1485000\n",
              "4   30/11/2019  ...   1480000\n",
              "5   23/11/2019  ...   1670000\n",
              "6   09/11/2019  ...   1440000\n",
              "7   02/11/2019  ...   1010000\n",
              "8   18/10/2019  ...    420000\n",
              "9   12/10/2019  ...   1308000\n",
              "10  12/09/2019  ...   1560000\n",
              "\n",
              "[11 rows x 7 columns]"
            ]
          },
          "metadata": {
            "tags": []
          },
          "execution_count": 30
        }
      ]
    },
    {
      "cell_type": "markdown",
      "metadata": {
        "id": "kNWAkia6n0dv",
        "colab_type": "text"
      },
      "source": [
        "### Exploratory Analysis and Visualization"
      ]
    },
    {
      "cell_type": "markdown",
      "metadata": {
        "id": "PUHkBFvCn0dx",
        "colab_type": "text"
      },
      "source": [
        "Task 2: Show the statistical summary for each numerical attributes, including COUNT, MEAN, STD, MIN, MAX, MEDIAN."
      ]
    },
    {
      "cell_type": "code",
      "metadata": {
        "id": "LR093Y20n0d0",
        "colab_type": "code",
        "colab": {
          "base_uri": "https://localhost:8080/",
          "height": 297
        },
        "outputId": "5c1d96a9-79d1-41a5-d80d-e7a0d6c71f5b"
      },
      "source": [
        "# Use the describe() method of DataFrame in Pandas.\n",
        "\n",
        "properties.describe().round(3)"
      ],
      "execution_count": 42,
      "outputs": [
        {
          "output_type": "execute_result",
          "data": {
            "text/html": [
              "<div>\n",
              "<style scoped>\n",
              "    .dataframe tbody tr th:only-of-type {\n",
              "        vertical-align: middle;\n",
              "    }\n",
              "\n",
              "    .dataframe tbody tr th {\n",
              "        vertical-align: top;\n",
              "    }\n",
              "\n",
              "    .dataframe thead th {\n",
              "        text-align: right;\n",
              "    }\n",
              "</style>\n",
              "<table border=\"1\" class=\"dataframe\">\n",
              "  <thead>\n",
              "    <tr style=\"text-align: right;\">\n",
              "      <th></th>\n",
              "      <th>Bedrooms</th>\n",
              "      <th>Bathrooms</th>\n",
              "      <th>ParkingSpace</th>\n",
              "      <th>LandArea</th>\n",
              "      <th>SoldPrice</th>\n",
              "    </tr>\n",
              "  </thead>\n",
              "  <tbody>\n",
              "    <tr>\n",
              "      <th>count</th>\n",
              "      <td>11.000</td>\n",
              "      <td>11.000</td>\n",
              "      <td>11.000</td>\n",
              "      <td>10.00</td>\n",
              "      <td>11.000</td>\n",
              "    </tr>\n",
              "    <tr>\n",
              "      <th>mean</th>\n",
              "      <td>3.182</td>\n",
              "      <td>1.455</td>\n",
              "      <td>1.273</td>\n",
              "      <td>700.00</td>\n",
              "      <td>1239636.364</td>\n",
              "    </tr>\n",
              "    <tr>\n",
              "      <th>std</th>\n",
              "      <td>0.982</td>\n",
              "      <td>0.688</td>\n",
              "      <td>0.467</td>\n",
              "      <td>342.45</td>\n",
              "      <td>424454.538</td>\n",
              "    </tr>\n",
              "    <tr>\n",
              "      <th>min</th>\n",
              "      <td>2.000</td>\n",
              "      <td>1.000</td>\n",
              "      <td>1.000</td>\n",
              "      <td>137.00</td>\n",
              "      <td>420000.000</td>\n",
              "    </tr>\n",
              "    <tr>\n",
              "      <th>25%</th>\n",
              "      <td>2.500</td>\n",
              "      <td>1.000</td>\n",
              "      <td>1.000</td>\n",
              "      <td>568.25</td>\n",
              "      <td>1010000.000</td>\n",
              "    </tr>\n",
              "    <tr>\n",
              "      <th>50%</th>\n",
              "      <td>3.000</td>\n",
              "      <td>1.000</td>\n",
              "      <td>1.000</td>\n",
              "      <td>679.00</td>\n",
              "      <td>1440000.000</td>\n",
              "    </tr>\n",
              "    <tr>\n",
              "      <th>75%</th>\n",
              "      <td>4.000</td>\n",
              "      <td>2.000</td>\n",
              "      <td>1.500</td>\n",
              "      <td>865.25</td>\n",
              "      <td>1522500.000</td>\n",
              "    </tr>\n",
              "    <tr>\n",
              "      <th>max</th>\n",
              "      <td>5.000</td>\n",
              "      <td>3.000</td>\n",
              "      <td>2.000</td>\n",
              "      <td>1404.00</td>\n",
              "      <td>1670000.000</td>\n",
              "    </tr>\n",
              "  </tbody>\n",
              "</table>\n",
              "</div>"
            ],
            "text/plain": [
              "       Bedrooms  Bathrooms  ParkingSpace  LandArea    SoldPrice\n",
              "count    11.000     11.000        11.000     10.00       11.000\n",
              "mean      3.182      1.455         1.273    700.00  1239636.364\n",
              "std       0.982      0.688         0.467    342.45   424454.538\n",
              "min       2.000      1.000         1.000    137.00   420000.000\n",
              "25%       2.500      1.000         1.000    568.25  1010000.000\n",
              "50%       3.000      1.000         1.000    679.00  1440000.000\n",
              "75%       4.000      2.000         1.500    865.25  1522500.000\n",
              "max       5.000      3.000         2.000   1404.00  1670000.000"
            ]
          },
          "metadata": {
            "tags": []
          },
          "execution_count": 42
        }
      ]
    },
    {
      "cell_type": "markdown",
      "metadata": {
        "id": "ZnnrYvq4n0d8",
        "colab_type": "text"
      },
      "source": [
        "Task 3 (optional): Plot the histogram for each numerical attribute"
      ]
    },
    {
      "cell_type": "code",
      "metadata": {
        "id": "2Ps2P7Brn0d8",
        "colab_type": "code",
        "colab": {}
      },
      "source": [
        "# Use the hist() method of DataFrame in Pandas."
      ],
      "execution_count": 43,
      "outputs": []
    },
    {
      "cell_type": "markdown",
      "metadata": {
        "id": "IngwhzU9n0d_",
        "colab_type": "text"
      },
      "source": [
        "Task 4: Visulize the relationship between each feature and the property sold price, to study the correlation between the features and the property price."
      ]
    },
    {
      "cell_type": "code",
      "metadata": {
        "id": "xcMc0CiBn0eA",
        "colab_type": "code",
        "colab": {
          "base_uri": "https://localhost:8080/",
          "height": 1000
        },
        "outputId": "4934117f-0093-41cd-b6c7-80b46a682fe7"
      },
      "source": [
        "# Scatter plot with a feature as the X axis and the property price as the Y axis.\n",
        "# Matplotlib will be involved.\n",
        "\n",
        "features = ['Bedrooms','Bathrooms','ParkingSpace','LandArea']\n",
        "target = ['SoldPrice']\n",
        "\n",
        "for feature in features:\n",
        "  # plt.figure()\n",
        "  # plt.scatter(properties[feature], properties['SoldPrice'])\n",
        "  properties.plot.scatter(feature, 'SoldPrice')"
      ],
      "execution_count": 58,
      "outputs": [
        {
          "output_type": "display_data",
          "data": {
            "image/png": "[encoded data removed]",
            "text/plain": [
              "<Figure size 432x288 with 1 Axes>"
            ]
          },
          "metadata": {
            "tags": []
          }
        },
        {
          "output_type": "display_data",
          "data": {
            "image/png": "[encoded data removed]",
            "text/plain": [
              "<Figure size 432x288 with 1 Axes>"
            ]
          },
          "metadata": {
            "tags": []
          }
        },
        {
          "output_type": "display_data",
          "data": {
            "image/png": "[encoded data removed]",
            "text/plain": [
              "<Figure size 432x288 with 1 Axes>"
            ]
          },
          "metadata": {
            "tags": []
          }
        },
        {
          "output_type": "display_data",
          "data": {
            "image/png": "[encoded data removed]",
            "text/plain": [
              "<Figure size 432x288 with 1 Axes>"
            ]
          },
          "metadata": {
            "tags": []
          }
        }
      ]
    },
    {
      "cell_type": "code",
      "metadata": {
        "id": "MRaryAfE0v7I",
        "colab_type": "code",
        "colab": {
          "base_uri": "https://localhost:8080/",
          "height": 204
        },
        "outputId": "872a2dbe-c285-4d8c-a2b2-8dda4c991b2e"
      },
      "source": [
        "# Display correlation between features and SoldPrice\n",
        "properties.corr()[['SoldPrice']]"
      ],
      "execution_count": 53,
      "outputs": [
        {
          "output_type": "execute_result",
          "data": {
            "text/html": [
              "<div>\n",
              "<style scoped>\n",
              "    .dataframe tbody tr th:only-of-type {\n",
              "        vertical-align: middle;\n",
              "    }\n",
              "\n",
              "    .dataframe tbody tr th {\n",
              "        vertical-align: top;\n",
              "    }\n",
              "\n",
              "    .dataframe thead th {\n",
              "        text-align: right;\n",
              "    }\n",
              "</style>\n",
              "<table border=\"1\" class=\"dataframe\">\n",
              "  <thead>\n",
              "    <tr style=\"text-align: right;\">\n",
              "      <th></th>\n",
              "      <th>SoldPrice</th>\n",
              "    </tr>\n",
              "  </thead>\n",
              "  <tbody>\n",
              "    <tr>\n",
              "      <th>Bedrooms</th>\n",
              "      <td>0.423056</td>\n",
              "    </tr>\n",
              "    <tr>\n",
              "      <th>Bathrooms</th>\n",
              "      <td>-0.150833</td>\n",
              "    </tr>\n",
              "    <tr>\n",
              "      <th>ParkingSpace</th>\n",
              "      <td>0.262829</td>\n",
              "    </tr>\n",
              "    <tr>\n",
              "      <th>LandArea</th>\n",
              "      <td>0.787309</td>\n",
              "    </tr>\n",
              "    <tr>\n",
              "      <th>SoldPrice</th>\n",
              "      <td>1.000000</td>\n",
              "    </tr>\n",
              "  </tbody>\n",
              "</table>\n",
              "</div>"
            ],
            "text/plain": [
              "              SoldPrice\n",
              "Bedrooms       0.423056\n",
              "Bathrooms     -0.150833\n",
              "ParkingSpace   0.262829\n",
              "LandArea       0.787309\n",
              "SoldPrice      1.000000"
            ]
          },
          "metadata": {
            "tags": []
          },
          "execution_count": 53
        }
      ]
    },
    {
      "cell_type": "markdown",
      "metadata": {
        "id": "xAgfQR_Rn0eD",
        "colab_type": "text"
      },
      "source": [
        "### Data Pre-processing"
      ]
    },
    {
      "cell_type": "markdown",
      "metadata": {
        "id": "2va9rzTyn0eD",
        "colab_type": "text"
      },
      "source": [
        "Task 5 (optional): Missing value imputation. If your collected dataset has missing values, you need to handle the missing values by imputation. Refer to https://scikit-learn.org/stable/modules/impute.html#impute for details about how to acheive this in Scikit-learn."
      ]
    },
    {
      "cell_type": "code",
      "metadata": {
        "id": "udN8VbhWn0eE",
        "colab_type": "code",
        "colab": {}
      },
      "source": [
        "# Missing value handling\n"
      ],
      "execution_count": null,
      "outputs": []
    },
    {
      "cell_type": "markdown",
      "metadata": {
        "id": "U-GoSGrhn0eT",
        "colab_type": "text"
      },
      "source": [
        "Task 6: Feature scaling. It can be seen that the property features have different scales. To cater for more machine learning models, we need to scale the features to make each feature can be treated equally. Refer to https://scikit-learn.org/stable/modules/preprocessing.html#standardization-or-mean-removal-and-variance-scaling  for more details about how to achieve feature scaling."
      ]
    },
    {
      "cell_type": "code",
      "metadata": {
        "id": "mFJTuYyQn0eU",
        "colab_type": "code",
        "colab": {}
      },
      "source": [
        "# Use the Min-Max feature scaling to transform the original data\n"
      ],
      "execution_count": null,
      "outputs": []
    },
    {
      "cell_type": "markdown",
      "metadata": {
        "id": "KVRAOn0Xn0ed",
        "colab_type": "text"
      },
      "source": [
        "### Model Training\n",
        "After pre-processing the data, we can choose and build some machine learning models from the data. In our project, we will make use of the linear regression models to help predict a property price."
      ]
    },
    {
      "cell_type": "markdown",
      "metadata": {
        "id": "cHrvXHgdn0ee",
        "colab_type": "text"
      },
      "source": [
        "Task 7 (checkpoint): To begin with, we just use a single feature (a.k.a., predictor or independent variable) and the property price together to build a very simple linear regression model. Specifially, we use the Land Area feature for this purpose. Then, the linear regress model is $y(w_0, w_1, x)=w_0+w_1x$. We need to learn $w_0$ and $w_1$ from the data. Refer to https://scikit-learn.org/stable/auto_examples/linear_model/plot_ols.html#sphx-glr-auto-examples-linear-model-plot-ols-py for an example.\n",
        "\n",
        "You need to have the following steps:\n",
        "#### Select the feature and the target attribute to create the dataset\n",
        "#### Split the data into a training dataset and a testing dataset. Given the small size of your collected dataset, you can just have one data instance in the testing dataset.\n",
        "#### Building the linear regression model on the training dataset\n",
        "#### Testing the model (you need to choose a performance measure, e.g., RSME)\n",
        "#### Visulize the learned model (essentially a line) with the data instances.\n"
      ]
    },
    {
      "cell_type": "code",
      "metadata": {
        "id": "EbfI4sVwn0ee",
        "colab_type": "code",
        "colab": {}
      },
      "source": [
        "# Build, test, and visualize a simple linear regression model here\n"
      ],
      "execution_count": null,
      "outputs": []
    },
    {
      "cell_type": "markdown",
      "metadata": {
        "id": "AWqmnj4Kn0eg",
        "colab_type": "text"
      },
      "source": [
        "Task 8: Build the linear regression model with multiple features. The single feature above might just offer limited information for the prediction. To improve the predication performance, we can include more features/predictors. So, in this task, you are required to inlcude other features such as the number of bedrooms, the number of bathrooms, and the number of car parking. Follow the same procedure described above except the visualization step. "
      ]
    },
    {
      "cell_type": "code",
      "metadata": {
        "id": "fc7-m2qgn0eh",
        "colab_type": "code",
        "colab": {}
      },
      "source": [
        "# Build and test the linear regression model with multiple features\n"
      ],
      "execution_count": null,
      "outputs": []
    },
    {
      "cell_type": "markdown",
      "metadata": {
        "id": "C-JlICeMn0ek",
        "colab_type": "text"
      },
      "source": [
        "### Model Fine-tuning"
      ]
    },
    {
      "cell_type": "markdown",
      "metadata": {
        "id": "_kv465ESn0el",
        "colab_type": "text"
      },
      "source": [
        "Task 9: Use the 5-fold cross validation to train the model and report the averaged testing error. "
      ]
    },
    {
      "cell_type": "code",
      "metadata": {
        "id": "NY5LGuoMn0el",
        "colab_type": "code",
        "colab": {}
      },
      "source": [
        "# Apply 5-fold cross validation to report a more robudt testing error\n"
      ],
      "execution_count": null,
      "outputs": []
    },
    {
      "cell_type": "markdown",
      "metadata": {
        "id": "aSeIAjBmn0eo",
        "colab_type": "text"
      },
      "source": [
        "Task 10 (Optional): Build a ridge regression model from the data. Refer to https://scikit-learn.org/stable/modules/linear_model.html#ridge-regression-and-classification for more details about the ridge regression model. Tune the complexity parameter to figure out optimal value via gridsearch with cross validation (refer to https://scikit-learn.org/stable/modules/grid_search.html#exhaustive-grid-search). "
      ]
    },
    {
      "cell_type": "code",
      "metadata": {
        "id": "_2T2MPovn0ep",
        "colab_type": "code",
        "colab": {}
      },
      "source": [
        "# Build a Ridge regression model from the data and tuning the parameter with Grid Search\n"
      ],
      "execution_count": null,
      "outputs": []
    },
    {
      "cell_type": "markdown",
      "metadata": {
        "id": "vuq2dxfpn0es",
        "colab_type": "text"
      },
      "source": [
        "### Model Deployment and Maintenance\n",
        "You can integrate the trained more with a web service. You can also update the model by retraining the model with new data."
      ]
    },
    {
      "cell_type": "code",
      "metadata": {
        "id": "jsTWERzxn0et",
        "colab_type": "code",
        "colab": {}
      },
      "source": [
        ""
      ],
      "execution_count": null,
      "outputs": []
    }
  ]
}