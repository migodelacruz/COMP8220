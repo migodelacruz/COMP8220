{
  "nbformat": 4,
  "nbformat_minor": 0,
  "metadata": {
    "kernelspec": {
      "display_name": "Python 3",
      "language": "python",
      "name": "python3"
    },
    "language_info": {
      "codemirror_mode": {
        "name": "ipython",
        "version": 3
      },
      "file_extension": ".py",
      "mimetype": "text/x-python",
      "name": "python",
      "nbconvert_exporter": "python",
      "pygments_lexer": "ipython3",
      "version": "3.7.4"
    },
    "colab": {
      "name": "practical-week-3.ipynb",
      "provenance": [],
      "collapsed_sections": [],
      "include_colab_link": true
    }
  },
  "cells": [
    {
      "cell_type": "markdown",
      "metadata": {
        "id": "view-in-github",
        "colab_type": "text"
      },
      "source": [
        "<a href=\"https://colab.research.google.com/github/migodelacruz/COMP8220/blob/master/practical_week_3.ipynb\" target=\"_parent\"><img src=\"https://colab.research.google.com/assets/colab-badge.svg\" alt=\"Open In Colab\"/></a>"
      ]
    },
    {
      "cell_type": "code",
      "metadata": {
        "id": "AzZPK8Lj7SJy",
        "colab_type": "code",
        "colab": {}
      },
      "source": [
        "from google.colab import drive\n",
        "drive.mount('/content/gdrive/')\n",
        "\n",
        "import os\n",
        "os.chdir('./gdrive/My Drive/COMP8220/Practical/')"
      ],
      "execution_count": null,
      "outputs": []
    },
    {
      "cell_type": "markdown",
      "metadata": {
        "id": "hz1w3a1t7FgV",
        "colab_type": "text"
      },
      "source": [
        "# Classifying Iris Species\n",
        "In this section, we will go through a simple machine learning application and create\n",
        "our first model. In the process, we will introduce some core concepts and terms.\n",
        "\n",
        "Let’s assume that a hobby botanist is interested in distinguishing the species of some\n",
        "iris flowers that she has found. She has collected some measurements associated with\n",
        "each iris: the length and width of the petals and the length and width of the sepals, all\n",
        "measured in centimeters.\n",
        "\n",
        "She also has the measurements of some irises that have been previously identified by\n",
        "an expert botanist as belonging to the species setosa, versicolor, or virginica. For these\n",
        "measurements, she can be certain of which species each iris belongs to. Let’s assume\n",
        "that these are the only species our hobby botanist will encounter in the wild.\n",
        "\n",
        "Our goal is to build a machine learning model that can learn from the measurements\n",
        "of these irises whose species is known, so that we can predict the species for a new\n",
        "iris."
      ]
    },
    {
      "cell_type": "markdown",
      "metadata": {
        "id": "Ac9cOxjR7FgX",
        "colab_type": "text"
      },
      "source": [
        "## Explore Data"
      ]
    },
    {
      "cell_type": "markdown",
      "metadata": {
        "id": "ck56UB747FgZ",
        "colab_type": "text"
      },
      "source": [
        "### 1. Import iris data"
      ]
    },
    {
      "cell_type": "code",
      "metadata": {
        "id": "xvyLyT3t7Fgc",
        "colab_type": "code",
        "colab": {}
      },
      "source": [
        "from sklearn.datasets import load_iris\n",
        "iris_dataset = load_iris()"
      ],
      "execution_count": 9,
      "outputs": []
    },
    {
      "cell_type": "markdown",
      "metadata": {
        "id": "7kuHFhCT7Fgl",
        "colab_type": "text"
      },
      "source": [
        "The iris object that is returned by load_iris is a Bunch object, which is very similar\n",
        "to a dictionary. It contains keys and values:"
      ]
    },
    {
      "cell_type": "code",
      "metadata": {
        "id": "W2UYsVLe7Fgm",
        "colab_type": "code",
        "colab": {
          "base_uri": "https://localhost:8080/",
          "height": 51
        },
        "outputId": "9cb1c899-5aba-4eac-f414-8092e32d5c76"
      },
      "source": [
        "print(\"Keys of iris_dataset: \\n{}\".format(iris_dataset.keys()))"
      ],
      "execution_count": 10,
      "outputs": [
        {
          "output_type": "stream",
          "text": [
            "Keys of iris_dataset: \n",
            "dict_keys(['data', 'target', 'target_names', 'DESCR', 'feature_names', 'filename'])\n"
          ],
          "name": "stdout"
        }
      ]
    },
    {
      "cell_type": "markdown",
      "metadata": {
        "id": "7Ue_d76n7Fgv",
        "colab_type": "text"
      },
      "source": [
        "The value of the key DESCR is a short description of the dataset. We show the beginning\n",
        "of the description here (feel free to look up the rest yourself):"
      ]
    },
    {
      "cell_type": "code",
      "metadata": {
        "id": "yGZFqzte7Fgw",
        "colab_type": "code",
        "colab": {
          "base_uri": "https://localhost:8080/",
          "height": 187
        },
        "outputId": "3f465afc-e0cb-47cd-e4c3-4fca134d14b7"
      },
      "source": [
        "print(iris_dataset['DESCR'][:193] + \"\\n...\")"
      ],
      "execution_count": 11,
      "outputs": [
        {
          "output_type": "stream",
          "text": [
            ".. _iris_dataset:\n",
            "\n",
            "Iris plants dataset\n",
            "--------------------\n",
            "\n",
            "**Data Set Characteristics:**\n",
            "\n",
            "    :Number of Instances: 150 (50 in each of three classes)\n",
            "    :Number of Attributes: 4 numeric, pre\n",
            "...\n"
          ],
          "name": "stdout"
        }
      ]
    },
    {
      "cell_type": "markdown",
      "metadata": {
        "id": "szIXY6_77Fg2",
        "colab_type": "text"
      },
      "source": [
        "The value of the key target_names is an array of strings, containing the species of\n",
        "flower that we want to predict:"
      ]
    },
    {
      "cell_type": "code",
      "metadata": {
        "id": "H08iRuqw7Fg4",
        "colab_type": "code",
        "colab": {
          "base_uri": "https://localhost:8080/",
          "height": 34
        },
        "outputId": "ae52a243-033c-497f-92ef-868e8cb4fadd"
      },
      "source": [
        "iris_dataset['target_names']"
      ],
      "execution_count": 17,
      "outputs": [
        {
          "output_type": "execute_result",
          "data": {
            "text/plain": [
              "array(['setosa', 'versicolor', 'virginica'], dtype='<U10')"
            ]
          },
          "metadata": {
            "tags": []
          },
          "execution_count": 17
        }
      ]
    },
    {
      "cell_type": "markdown",
      "metadata": {
        "id": "VFAm7kcI7Fg-",
        "colab_type": "text"
      },
      "source": [
        "The value of feature_names is a list of strings, giving the description of each feature:"
      ]
    },
    {
      "cell_type": "code",
      "metadata": {
        "id": "h7Izgn827Fg_",
        "colab_type": "code",
        "colab": {
          "base_uri": "https://localhost:8080/",
          "height": 85
        },
        "outputId": "12fa417c-d8db-4e34-ab2d-63766929cdb3"
      },
      "source": [
        "iris_dataset['feature_names']"
      ],
      "execution_count": 18,
      "outputs": [
        {
          "output_type": "execute_result",
          "data": {
            "text/plain": [
              "['sepal length (cm)',\n",
              " 'sepal width (cm)',\n",
              " 'petal length (cm)',\n",
              " 'petal width (cm)']"
            ]
          },
          "metadata": {
            "tags": []
          },
          "execution_count": 18
        }
      ]
    },
    {
      "cell_type": "markdown",
      "metadata": {
        "id": "XWJyHBYz7FhG",
        "colab_type": "text"
      },
      "source": [
        "The data itself is contained in the target and data fields. Data contains the numeric\n",
        "measurements of sepal length, sepal width, petal length, and petal width in a NumPy\n",
        "array:"
      ]
    },
    {
      "cell_type": "code",
      "metadata": {
        "id": "jdwYalfO7FhI",
        "colab_type": "code",
        "colab": {
          "base_uri": "https://localhost:8080/",
          "height": 153
        },
        "outputId": "3bb12d5e-5013-45b6-f7ad-b78eb52308b3"
      },
      "source": [
        "print(\"Data Array:\\n\", iris_dataset['data'][0:5])\n",
        "print(\"Target Array:\\n\", iris_dataset['target'][0:5])"
      ],
      "execution_count": 28,
      "outputs": [
        {
          "output_type": "stream",
          "text": [
            "Data Array:\n",
            " [[5.1 3.5 1.4 0.2]\n",
            " [4.9 3.  1.4 0.2]\n",
            " [4.7 3.2 1.3 0.2]\n",
            " [4.6 3.1 1.5 0.2]\n",
            " [5.  3.6 1.4 0.2]]\n",
            "Target Array:\n",
            " [0 0 0 0 0]\n"
          ],
          "name": "stdout"
        }
      ]
    },
    {
      "cell_type": "markdown",
      "metadata": {
        "id": "4XofSljE7FhQ",
        "colab_type": "text"
      },
      "source": [
        "The rows in the data array correspond to flowers, while the columns represent the\n",
        "four measurements that were taken for each flower:"
      ]
    },
    {
      "cell_type": "code",
      "metadata": {
        "id": "DoUz7JHf7FhS",
        "colab_type": "code",
        "colab": {
          "base_uri": "https://localhost:8080/",
          "height": 51
        },
        "outputId": "0afa48e2-5ac3-4f85-e2b2-024811a59cc9"
      },
      "source": [
        "print(iris_dataset['data'].shape)\n",
        "print(iris_dataset['target'].shape)"
      ],
      "execution_count": 32,
      "outputs": [
        {
          "output_type": "stream",
          "text": [
            "(150, 4)\n",
            "(150,)\n"
          ],
          "name": "stdout"
        }
      ]
    },
    {
      "cell_type": "markdown",
      "metadata": {
        "id": "FMB_TlhW7FhY",
        "colab_type": "text"
      },
      "source": [
        "We see that the array contains measurements for 150 different flowers. Remember\n",
        "that the individual items are called samples in machine learning, and their properties\n",
        "are called features. The shape of the data array is the number of samples multiplied by\n",
        "the number of features. This is a convention in scikit-learn, and your data will\n",
        "always be assumed to be in this shape. Here are the feature values for the first five\n",
        "samples:"
      ]
    },
    {
      "cell_type": "code",
      "metadata": {
        "id": "0wXRCnJplX-L",
        "colab_type": "code",
        "colab": {
          "base_uri": "https://localhost:8080/",
          "height": 119
        },
        "outputId": "efb36338-1b25-4ca9-d79a-ef76ce4f5aa3"
      },
      "source": [
        "print(\"First Five Samples - Data Array:\\n\", iris_dataset['data'][0:5])"
      ],
      "execution_count": 33,
      "outputs": [
        {
          "output_type": "stream",
          "text": [
            "First Five Samples - Data Array:\n",
            " [[5.1 3.5 1.4 0.2]\n",
            " [4.9 3.  1.4 0.2]\n",
            " [4.7 3.2 1.3 0.2]\n",
            " [4.6 3.1 1.5 0.2]\n",
            " [5.  3.6 1.4 0.2]]\n"
          ],
          "name": "stdout"
        }
      ]
    },
    {
      "cell_type": "markdown",
      "metadata": {
        "id": "rZ3RItGk7Fhh",
        "colab_type": "text"
      },
      "source": [
        "From this data, we can see that all of the first five flowers have a petal width of 0.2 cm\n",
        "and that the first flower has the longest sepal, at 5.1 cm.\n",
        "\n",
        "The target array contains the species of each of the flowers that were measured, also\n",
        "as a NumPy array. Print 'Type of target':"
      ]
    },
    {
      "cell_type": "code",
      "metadata": {
        "id": "X-X9yvC-7Fhi",
        "colab_type": "code",
        "colab": {
          "base_uri": "https://localhost:8080/",
          "height": 34
        },
        "outputId": "95ca252b-f17f-4c09-9eaf-b1450ee04391"
      },
      "source": [
        "print(\"Target Data Type:\", type(iris_dataset['target']))"
      ],
      "execution_count": 36,
      "outputs": [
        {
          "output_type": "stream",
          "text": [
            "Target Data Type: <class 'numpy.ndarray'>\n"
          ],
          "name": "stdout"
        }
      ]
    },
    {
      "cell_type": "markdown",
      "metadata": {
        "id": "cKHafcC67Fhn",
        "colab_type": "text"
      },
      "source": [
        "target is a one-dimensional array, with one entry per flower. Print 'Shape of target':"
      ]
    },
    {
      "cell_type": "code",
      "metadata": {
        "id": "Ib3J3E9D7Fhq",
        "colab_type": "code",
        "colab": {
          "base_uri": "https://localhost:8080/",
          "height": 34
        },
        "outputId": "b96fca55-3c74-4e5f-f89e-5b1ff4088312"
      },
      "source": [
        "print(\"Target Data Shape:\", iris_dataset['target'].shape)"
      ],
      "execution_count": 35,
      "outputs": [
        {
          "output_type": "stream",
          "text": [
            "Target Data Shape: (150,)\n"
          ],
          "name": "stdout"
        }
      ]
    },
    {
      "cell_type": "markdown",
      "metadata": {
        "id": "9nXrqoGJ7Fhw",
        "colab_type": "text"
      },
      "source": [
        "The species are encoded as integers from 0 to 2. Print 'Value of target':"
      ]
    },
    {
      "cell_type": "code",
      "metadata": {
        "id": "JRxx_F4H7Fhx",
        "colab_type": "code",
        "colab": {
          "base_uri": "https://localhost:8080/",
          "height": 119
        },
        "outputId": "c1b7ad68-8aba-45b9-899a-53fa17387bbb"
      },
      "source": [
        "print(\"Target Data Values:\\n\", iris_dataset['target'])"
      ],
      "execution_count": 38,
      "outputs": [
        {
          "output_type": "stream",
          "text": [
            "Target Data Values:\n",
            " [0 0 0 0 0 0 0 0 0 0 0 0 0 0 0 0 0 0 0 0 0 0 0 0 0 0 0 0 0 0 0 0 0 0 0 0 0\n",
            " 0 0 0 0 0 0 0 0 0 0 0 0 0 1 1 1 1 1 1 1 1 1 1 1 1 1 1 1 1 1 1 1 1 1 1 1 1\n",
            " 1 1 1 1 1 1 1 1 1 1 1 1 1 1 1 1 1 1 1 1 1 1 1 1 1 1 2 2 2 2 2 2 2 2 2 2 2\n",
            " 2 2 2 2 2 2 2 2 2 2 2 2 2 2 2 2 2 2 2 2 2 2 2 2 2 2 2 2 2 2 2 2 2 2 2 2 2\n",
            " 2 2]\n"
          ],
          "name": "stdout"
        }
      ]
    },
    {
      "cell_type": "markdown",
      "metadata": {
        "id": "1QUc6TVP7Fh2",
        "colab_type": "text"
      },
      "source": [
        "The meanings of the numbers are given by the iris['target_names'] array:\n",
        "0 means setosa, 1 means versicolor, and 2 means virginica."
      ]
    },
    {
      "cell_type": "markdown",
      "metadata": {
        "id": "1iuuU82x7Fh3",
        "colab_type": "text"
      },
      "source": [
        "## Training and Testing Data"
      ]
    },
    {
      "cell_type": "markdown",
      "metadata": {
        "id": "4qID501L7Fh3",
        "colab_type": "text"
      },
      "source": [
        "We want to build a machine learning model from this data that can predict the species\n",
        "of iris for a new set of measurements. But before we can apply our model to new\n",
        "measurements, we need to know whether it actually works—that is, whether we\n",
        "should trust its predictions.\n",
        "\n",
        "To assess the model’s performance, we show it new data (data that it hasn’t seen\n",
        "before) for which we have labels. This is usually done by splitting the labeled data we\n",
        "have collected (here, our 150 flower measurements) into two parts. One part of the\n",
        "data is used to build our machine learning model, and is called the training data or\n",
        "training set. The rest of the data will be used to assess how well the model works; this\n",
        "is called the test data, test set, or hold-out set."
      ]
    },
    {
      "cell_type": "markdown",
      "metadata": {
        "id": "lSJDkNUZ7Fh4",
        "colab_type": "text"
      },
      "source": [
        "scikit-learn contains a function that shuffles the dataset and splits it for you: the\n",
        "train_test_split function. This function extracts 75% of the rows in the data as the\n",
        "training set, together with the corresponding labels for this data. The remaining 25%\n",
        "of the data, together with the remaining labels, is declared as the test set. Deciding\n",
        "how much data you want to put into the training and the test set respectively is somewhat\n",
        "arbitrary, but using a test set containing 25% of the data is a good rule of thumb.\n",
        "\n",
        "In scikit-learn, data is usually denoted with a capital X, while labels are denoted by\n",
        "a lowercase y. This is inspired by the standard formulation f(x)=y in mathematics,\n",
        "where x is the input to a function and y is the output. Following more conventions\n",
        "from mathematics, we use a capital X because the data is a two-dimensional array (a\n",
        "matrix) and a lowercase y because the target is a one-dimensional array (a vector).\n",
        "Let’s call train_test_split on our data and assign the outputs using this nomenclature:"
      ]
    },
    {
      "cell_type": "code",
      "metadata": {
        "id": "3OdYCmOv7Fh5",
        "colab_type": "code",
        "colab": {}
      },
      "source": [
        "from sklearn.model_selection import train_test_split\n",
        "\n",
        "# Set X and y variables\n",
        "X = iris_dataset['data']\n",
        "y = iris_dataset['target']\n",
        "\n",
        "#Split transformed features and target data into train and test splits\n",
        "X_train, X_test, y_train, y_test = train_test_split(X, y, test_size=0.25, random_state=24)"
      ],
      "execution_count": 40,
      "outputs": []
    },
    {
      "cell_type": "markdown",
      "metadata": {
        "id": "P8Zoj89D7Fh_",
        "colab_type": "text"
      },
      "source": [
        "Before making the split, the train_test_split function shuffles the dataset using a\n",
        "pseudorandom number generator. If we just took the last 25% of the data as a test set,\n",
        "all the data points would have the label 2, as the data points are sorted by the label\n",
        "(see the output for iris['target'] shown earlier). Using a test set containing only\n",
        "one of the three classes would not tell us much about how well our model generalizes,\n",
        "so we shuffle our data to make sure the test data contains data from all classes.\n",
        "\n",
        "To make sure that we will get the same output if we run the same function several\n",
        "times, we provide the pseudorandom number generator with a fixed seed using the\n",
        "random_state parameter. This will make the outcome deterministic, so this line will\n",
        "always have the same outcome. We will always fix the random_state in this way when\n",
        "using randomized procedures."
      ]
    },
    {
      "cell_type": "markdown",
      "metadata": {
        "id": "B6BDCdR77FiA",
        "colab_type": "text"
      },
      "source": [
        "The output of the train_test_split function is X_train, X_test, y_train, and\n",
        "y_test, which are all NumPy arrays. X_train contains 75% of the rows of the dataset,\n",
        "and X_test contains the remaining 25%:"
      ]
    },
    {
      "cell_type": "code",
      "metadata": {
        "id": "ekPi5znJ7FiB",
        "colab_type": "code",
        "colab": {
          "base_uri": "https://localhost:8080/",
          "height": 51
        },
        "outputId": "ea04f3ec-caa0-45f5-8372-1981004fc835"
      },
      "source": [
        "print(\"X_train shape: {}\".format(X_train.shape))\n",
        "print(\"y_train shape: {}\".format(y_train.shape))"
      ],
      "execution_count": 41,
      "outputs": [
        {
          "output_type": "stream",
          "text": [
            "X_train shape: (112, 4)\n",
            "y_train shape: (112,)\n"
          ],
          "name": "stdout"
        }
      ]
    },
    {
      "cell_type": "code",
      "metadata": {
        "id": "mX5cYUUX7FiG",
        "colab_type": "code",
        "colab": {
          "base_uri": "https://localhost:8080/",
          "height": 51
        },
        "outputId": "c9f89630-4d4e-46c4-c822-270e780edef8"
      },
      "source": [
        "print(\"X_test shape: {}\".format(X_test.shape))\n",
        "print(\"y_test shape: {}\".format(y_test.shape))"
      ],
      "execution_count": 42,
      "outputs": [
        {
          "output_type": "stream",
          "text": [
            "X_test shape: (38, 4)\n",
            "y_test shape: (38,)\n"
          ],
          "name": "stdout"
        }
      ]
    },
    {
      "cell_type": "markdown",
      "metadata": {
        "id": "D3d9y9y87FiO",
        "colab_type": "text"
      },
      "source": [
        "## Look at Your Data"
      ]
    },
    {
      "cell_type": "markdown",
      "metadata": {
        "id": "iu1ZbXh07FiP",
        "colab_type": "text"
      },
      "source": [
        "Before building a machine learning model it is often a good idea to inspect the data,\n",
        "to see if the task is easily solvable without machine learning, or if the desired information\n",
        "might not be contained in the data."
      ]
    },
    {
      "cell_type": "markdown",
      "metadata": {
        "id": "eu1USaae7FiQ",
        "colab_type": "text"
      },
      "source": [
        "One of the best ways to inspect data is to visualize it. One way to do this is by using a\n",
        "scatter plot. A scatter plot of the data puts one feature along the x-axis and another\n",
        "along the y-axis, and draws a dot for each data point."
      ]
    },
    {
      "cell_type": "markdown",
      "metadata": {
        "id": "Ok240kJS7FiR",
        "colab_type": "text"
      },
      "source": [
        "create dataframe from data in X_train;\n",
        "label the columns using the strings in iris_dataset.feature_names"
      ]
    },
    {
      "cell_type": "code",
      "metadata": {
        "id": "JjXbd3PA7FiS",
        "colab_type": "code",
        "colab": {}
      },
      "source": [
        "import pandas as pd"
      ],
      "execution_count": 43,
      "outputs": []
    },
    {
      "cell_type": "code",
      "metadata": {
        "id": "VOyIHFRB7FiX",
        "colab_type": "code",
        "colab": {}
      },
      "source": [
        "iris_dataframe = pd.DataFrame(X_train, columns=iris_dataset.feature_names)"
      ],
      "execution_count": 44,
      "outputs": []
    },
    {
      "cell_type": "markdown",
      "metadata": {
        "id": "H6u3-RuY7Fic",
        "colab_type": "text"
      },
      "source": [
        "create a scatter matrix from the dataframe, color by y_train"
      ]
    },
    {
      "cell_type": "code",
      "metadata": {
        "id": "by0S7_C67Fid",
        "colab_type": "code",
        "colab": {}
      },
      "source": [
        "import mglearn"
      ],
      "execution_count": 45,
      "outputs": []
    },
    {
      "cell_type": "code",
      "metadata": {
        "id": "PA19F6mq7Fih",
        "colab_type": "code",
        "colab": {
          "base_uri": "https://localhost:8080/",
          "height": 1000
        },
        "outputId": "4c7fa0a5-6af2-45a1-93a4-54f46a54607b"
      },
      "source": [
        "pd.plotting.scatter_matrix(iris_dataframe, c=y_train, figsize=(15, 15),\n",
        "marker='o', hist_kwds={'bins': 20}, s=60,\n",
        "alpha=.8, cmap=mglearn.cm3)"
      ],
      "execution_count": 46,
      "outputs": [
        {
          "output_type": "execute_result",
          "data": {
            "text/plain": [
              "array([[<matplotlib.axes._subplots.AxesSubplot object at 0x7f07f703aa90>,\n",
              "        <matplotlib.axes._subplots.AxesSubplot object at 0x7f07f6f94d30>,\n",
              "        <matplotlib.axes._subplots.AxesSubplot object at 0x7f07f6f4cf98>,\n",
              "        <matplotlib.axes._subplots.AxesSubplot object at 0x7f07f6f0b240>],\n",
              "       [<matplotlib.axes._subplots.AxesSubplot object at 0x7f07f6f3e4a8>,\n",
              "        <matplotlib.axes._subplots.AxesSubplot object at 0x7f07f6ef1710>,\n",
              "        <matplotlib.axes._subplots.AxesSubplot object at 0x7f07f6ea4978>,\n",
              "        <matplotlib.axes._subplots.AxesSubplot object at 0x7f07f6e58ba8>],\n",
              "       [<matplotlib.axes._subplots.AxesSubplot object at 0x7f07f6e58c18>,\n",
              "        <matplotlib.axes._subplots.AxesSubplot object at 0x7f07f6dcc0f0>,\n",
              "        <matplotlib.axes._subplots.AxesSubplot object at 0x7f07f6e00358>,\n",
              "        <matplotlib.axes._subplots.AxesSubplot object at 0x7f07f6db25c0>],\n",
              "       [<matplotlib.axes._subplots.AxesSubplot object at 0x7f07f6d65828>,\n",
              "        <matplotlib.axes._subplots.AxesSubplot object at 0x7f07f6d18a90>,\n",
              "        <matplotlib.axes._subplots.AxesSubplot object at 0x7f07f6ccccf8>,\n",
              "        <matplotlib.axes._subplots.AxesSubplot object at 0x7f07f6d01f60>]],\n",
              "      dtype=object)"
            ]
          },
          "metadata": {
            "tags": []
          },
          "execution_count": 46
        },
        {
          "output_type": "display_data",
          "data": {
            "image/png": "[encoded data removed]",
            "text/plain": [
              "<Figure size 1080x1080 with 16 Axes>"
            ]
          },
          "metadata": {
            "tags": [],
            "needs_background": "light"
          }
        }
      ]
    },
    {
      "cell_type": "markdown",
      "metadata": {
        "id": "7WdfGDov7Fim",
        "colab_type": "text"
      },
      "source": [
        "# k-Nearest Neighbors"
      ]
    },
    {
      "cell_type": "markdown",
      "metadata": {
        "id": "i66U4tOM7Fin",
        "colab_type": "text"
      },
      "source": [
        "Now we can start building the actual machine learning model. There are many classification\n",
        "algorithms in scikit-learn that we could use. Here we will use a k-nearest\n",
        "neighbors classifier, which is easy to understand. Building this model only consists of\n",
        "storing the training set. To make a prediction for a new data point, the algorithm\n",
        "finds the point in the training set that is closest to the new point. Then it assigns the\n",
        "label of this training point to the new data point."
      ]
    },
    {
      "cell_type": "markdown",
      "metadata": {
        "id": "Qx8mV9eU7Fip",
        "colab_type": "text"
      },
      "source": [
        "All machine learning models in scikit-learn are implemented in their own classes,\n",
        "which are called Estimator classes. The k-nearest neighbors classification algorithm\n",
        "is implemented in the KNeighborsClassifier class in the neighbors module. Before\n",
        "we can use the model, we need to instantiate the class into an object. This is when we\n",
        "will set any parameters of the model. The most important parameter of KNeighborsClassifier is the number of neighbors, which we will set to 1:"
      ]
    },
    {
      "cell_type": "code",
      "metadata": {
        "id": "W9pTknG37Fiq",
        "colab_type": "code",
        "colab": {}
      },
      "source": [
        "from sklearn.neighbors import KNeighborsClassifier\n",
        "\n",
        "# Create and training a KNN classifier model set to 1\n",
        "knn = KNeighborsClassifier(n_neighbors = 1)"
      ],
      "execution_count": 47,
      "outputs": []
    },
    {
      "cell_type": "markdown",
      "metadata": {
        "id": "2n3uk0fw7Fiu",
        "colab_type": "text"
      },
      "source": [
        "To build the model on the training set, we call the fit method of the knn object,\n",
        "which takes as arguments the NumPy array X_train containing the training data and\n",
        "the NumPy array y_train of the corresponding training labels:"
      ]
    },
    {
      "cell_type": "code",
      "metadata": {
        "id": "uREbyjul7Fiw",
        "colab_type": "code",
        "colab": {
          "base_uri": "https://localhost:8080/",
          "height": 68
        },
        "outputId": "692ff646-c861-4df9-81b4-d30c7f225081"
      },
      "source": [
        "knn.fit(X_train, y_train)"
      ],
      "execution_count": 48,
      "outputs": [
        {
          "output_type": "execute_result",
          "data": {
            "text/plain": [
              "KNeighborsClassifier(algorithm='auto', leaf_size=30, metric='minkowski',\n",
              "                     metric_params=None, n_jobs=None, n_neighbors=1, p=2,\n",
              "                     weights='uniform')"
            ]
          },
          "metadata": {
            "tags": []
          },
          "execution_count": 48
        }
      ]
    },
    {
      "cell_type": "markdown",
      "metadata": {
        "id": "BgmKiX_87Fi4",
        "colab_type": "text"
      },
      "source": [
        "## Making Predictions"
      ]
    },
    {
      "cell_type": "markdown",
      "metadata": {
        "id": "LFEc8w-q7Fi6",
        "colab_type": "text"
      },
      "source": [
        "We can now make predictions using this model on new data for which we might not\n",
        "know the correct labels. Imagine we found an iris in the wild with a sepal length of\n",
        "5 cm, a sepal width of 2.9 cm, a petal length of 1 cm, and a petal width of 0.2 cm.\n",
        "What species of iris would this be? We can put this data into a NumPy array, again by\n",
        "calculating the shape—that is, the number of samples (1) multiplied by the number of\n",
        "features (4):"
      ]
    },
    {
      "cell_type": "code",
      "metadata": {
        "id": "8y6GJYom7Fi7",
        "colab_type": "code",
        "colab": {
          "base_uri": "https://localhost:8080/",
          "height": 34
        },
        "outputId": "309bfd7f-f7d7-4a3d-9133-392f39dff113"
      },
      "source": [
        "import numpy as np\n",
        "\n",
        "X_new = np.array([[5, 2.9, 1, 0.2]])\n",
        "print(\"X_new.shape: {}\".format(X_new.shape))"
      ],
      "execution_count": 50,
      "outputs": [
        {
          "output_type": "stream",
          "text": [
            "X_new.shape: (1, 4)\n"
          ],
          "name": "stdout"
        }
      ]
    },
    {
      "cell_type": "code",
      "metadata": {
        "id": "AxkktgSA7FjA",
        "colab_type": "code",
        "colab": {
          "base_uri": "https://localhost:8080/",
          "height": 51
        },
        "outputId": "52c041bc-047d-4a39-c77e-e1ce6135bd8c"
      },
      "source": [
        "prediction = knn.predict(X_new)\n",
        "print(\"Prediction: {}\".format(prediction))\n",
        "print(\"Predicted target name: {}\".format(\n",
        "iris_dataset['target_names'][prediction]))"
      ],
      "execution_count": 51,
      "outputs": [
        {
          "output_type": "stream",
          "text": [
            "Prediction: [0]\n",
            "Predicted target name: ['setosa']\n"
          ],
          "name": "stdout"
        }
      ]
    },
    {
      "cell_type": "markdown",
      "metadata": {
        "id": "RKmUMT_y7FjF",
        "colab_type": "text"
      },
      "source": [
        "Our model predicts that this new iris belongs to the class 0, meaning its species is\n",
        "setosa. But how do we know whether we can trust our model? We don’t know the correct\n",
        "species of this sample, which is the whole point of building the model!"
      ]
    },
    {
      "cell_type": "markdown",
      "metadata": {
        "id": "ZMle_gZJ7FjG",
        "colab_type": "text"
      },
      "source": [
        "## Evaluating the Model"
      ]
    },
    {
      "cell_type": "markdown",
      "metadata": {
        "id": "Zkq1U3UO7FjH",
        "colab_type": "text"
      },
      "source": [
        "This is where the test set that we created earlier comes in. This data was not used to\n",
        "build the model, but we do know what the correct species is for each iris in the test\n",
        "set."
      ]
    },
    {
      "cell_type": "code",
      "metadata": {
        "id": "T-BD15507FjI",
        "colab_type": "code",
        "colab": {
          "base_uri": "https://localhost:8080/",
          "height": 329
        },
        "outputId": "54c1c010-727e-4073-df83-af87dbdf17c2"
      },
      "source": [
        "from sklearn.metrics import accuracy_score\n",
        "from sklearn.metrics import plot_confusion_matrix\n",
        "import matplotlib.pyplot as plt\n",
        "%matplotlib inline\n",
        "\n",
        "# Use the model to predict X_test data\n",
        "y_pred = knn.predict(X_test)\n",
        "\n",
        "#Get the accuracy of the model\n",
        "accuracy = accuracy_score(y_pred, y_test)\n",
        "print('Testing accuracy is: ', accuracy)\n",
        "\n",
        "disp = plot_confusion_matrix(knn, X_test, y_test, display_labels=['0 - Setosa','1 - Versicolor','2 - Virginica'], cmap=plt.cm.Blues)\n",
        "disp.ax_.set_title('Test Data - Confusion Matrix')"
      ],
      "execution_count": 54,
      "outputs": [
        {
          "output_type": "stream",
          "text": [
            "Testing accuracy is:  0.9473684210526315\n"
          ],
          "name": "stdout"
        },
        {
          "output_type": "execute_result",
          "data": {
            "text/plain": [
              "Text(0.5, 1.0, 'Test Data - Confusion Matrix')"
            ]
          },
          "metadata": {
            "tags": []
          },
          "execution_count": 54
        },
        {
          "output_type": "display_data",
          "data": {
            "image/png": "[encoded data removed]",
            "text/plain": [
              "<Figure size 432x288 with 2 Axes>"
            ]
          },
          "metadata": {
            "tags": [],
            "needs_background": "light"
          }
        }
      ]
    },
    {
      "cell_type": "markdown",
      "metadata": {
        "id": "vbMw5e5o7FjN",
        "colab_type": "text"
      },
      "source": [
        "# Analysing KNeighborsClassifier"
      ]
    },
    {
      "cell_type": "code",
      "metadata": {
        "id": "mJ69aTc97FjT",
        "colab_type": "code",
        "colab": {}
      },
      "source": [
        "import numpy as np\n",
        "import matplotlib.pyplot as plt\n",
        "import pandas as pd\n",
        "import mglearn\n",
        "from sklearn.neighbors import KNeighborsClassifier\n",
        "from IPython.display import display"
      ],
      "execution_count": 55,
      "outputs": []
    },
    {
      "cell_type": "code",
      "metadata": {
        "id": "Mrfx3SBU7Fjb",
        "colab_type": "code",
        "colab": {
          "base_uri": "https://localhost:8080/",
          "height": 51
        },
        "outputId": "86bc7eaa-476b-49bd-d9c5-b0d80a43c6ee"
      },
      "source": [
        "from sklearn.model_selection import train_test_split\n",
        "X, y = mglearn.datasets.make_forge()"
      ],
      "execution_count": 56,
      "outputs": [
        {
          "output_type": "stream",
          "text": [
            "/usr/local/lib/python3.6/dist-packages/sklearn/utils/deprecation.py:87: FutureWarning: Function make_blobs is deprecated; Please import make_blobs directly from scikit-learn\n",
            "  warnings.warn(msg, category=FutureWarning)\n"
          ],
          "name": "stderr"
        }
      ]
    },
    {
      "cell_type": "markdown",
      "metadata": {
        "id": "VKHz7zub7Fjf",
        "colab_type": "text"
      },
      "source": [
        "The following code produces the visualizations of the decision boundaries shown in Figure."
      ]
    },
    {
      "cell_type": "code",
      "metadata": {
        "id": "nV67gC3u7Fjg",
        "colab_type": "code",
        "colab": {
          "base_uri": "https://localhost:8080/",
          "height": 279
        },
        "outputId": "3413dd2b-0945-45b6-dfdb-851e8d9d0b02"
      },
      "source": [
        "clf = KNeighborsClassifier().fit(X, y)\n",
        "mglearn.plots.plot_2d_separator(clf, X, fill=True, alpha=.4)\n",
        "mglearn.discrete_scatter(X[:, 0], X[:, 1], y)\n",
        "plt.xlabel(\"Feature 0\")\n",
        "plt.ylabel(\"Feature 1\")"
      ],
      "execution_count": 57,
      "outputs": [
        {
          "output_type": "execute_result",
          "data": {
            "text/plain": [
              "Text(0, 0.5, 'Feature 1')"
            ]
          },
          "metadata": {
            "tags": []
          },
          "execution_count": 57
        },
        {
          "output_type": "display_data",
          "data": {
            "image/png": "[encoded data removed]",
            "text/plain": [
              "<Figure size 432x288 with 1 Axes>"
            ]
          },
          "metadata": {
            "tags": []
          }
        }
      ]
    },
    {
      "cell_type": "markdown",
      "metadata": {
        "id": "7QCH4XkS7Fjk",
        "colab_type": "text"
      },
      "source": [
        "Analyse the difference with different K [1,3,9] values."
      ]
    },
    {
      "cell_type": "code",
      "metadata": {
        "id": "hNhwK1cD7Fjl",
        "colab_type": "code",
        "colab": {
          "base_uri": "https://localhost:8080/",
          "height": 800
        },
        "outputId": "97fd114d-2980-44ba-dffc-f895448e9013"
      },
      "source": [
        "# K value of 1\n",
        "k_values = [1,3,9]\n",
        "\n",
        "for k in k_values:\n",
        "  plt.figure()\n",
        "  clf = KNeighborsClassifier(n_neighbors=k).fit(X, y)\n",
        "  mglearn.plots.plot_2d_separator(clf, X, fill=True, alpha=.4)\n",
        "  mglearn.discrete_scatter(X[:, 0], X[:, 1], y)\n",
        "  plt.xlabel(\"Feature 0\")\n",
        "  plt.ylabel(\"Feature 1\")\n",
        "  plt.title(\"K value: {}\".format(k))"
      ],
      "execution_count": 62,
      "outputs": [
        {
          "output_type": "display_data",
          "data": {
            "image/png": "[encoded data removed]",
            "text/plain": [
              "<Figure size 432x288 with 1 Axes>"
            ]
          },
          "metadata": {
            "tags": []
          }
        },
        {
          "output_type": "display_data",
          "data": {
            "image/png": "[encoded data removed]",
            "text/plain": [
              "<Figure size 432x288 with 1 Axes>"
            ]
          },
          "metadata": {
            "tags": []
          }
        },
        {
          "output_type": "display_data",
          "data": {
            "image/png": "[encoded data removed]",
            "text/plain": [
              "<Figure size 432x288 with 1 Axes>"
            ]
          },
          "metadata": {
            "tags": []
          }
        }
      ]
    },
    {
      "cell_type": "markdown",
      "metadata": {
        "id": "NTmzZjkt7Fjs",
        "colab_type": "text"
      },
      "source": [
        "# k-Fold Cross-Validation"
      ]
    },
    {
      "cell_type": "markdown",
      "metadata": {
        "id": "4B6epPCv7Fju",
        "colab_type": "text"
      },
      "source": [
        "In order to train and test our model using cross-validation, we will use the [‘cross_val_score’ function](https://scikit-learn.org/stable/modules/generated/sklearn.model_selection.cross_val_score.html) with a cross-validation value of 10. ‘cross_val_score’ takes in our k-NN model and our data as parameters. Then it splits our data into 10 groups and fits and scores our data 10 times, recording the accuracy score in an array each time. We will save the accuracy scores in the ‘cv_scores’ variable."
      ]
    },
    {
      "cell_type": "markdown",
      "metadata": {
        "id": "geVG6ojP7Fjv",
        "colab_type": "text"
      },
      "source": [
        "## Data"
      ]
    },
    {
      "cell_type": "code",
      "metadata": {
        "id": "24rgbmXM7Fjw",
        "colab_type": "code",
        "colab": {
          "base_uri": "https://localhost:8080/",
          "height": 309
        },
        "outputId": "feadd325-15fb-4b88-824e-dcfae20bea3b"
      },
      "source": [
        "from sklearn.datasets import load_digits\n",
        "digits = load_digits()\n",
        "print(digits.data.shape)\n",
        "import matplotlib.pyplot as plt \n",
        "plt.gray() \n",
        "plt.matshow(digits.images[0]) \n",
        "plt.show() "
      ],
      "execution_count": 72,
      "outputs": [
        {
          "output_type": "stream",
          "text": [
            "(1797, 64)\n"
          ],
          "name": "stdout"
        },
        {
          "output_type": "display_data",
          "data": {
            "text/plain": [
              "<Figure size 432x288 with 0 Axes>"
            ]
          },
          "metadata": {
            "tags": []
          }
        },
        {
          "output_type": "display_data",
          "data": {
            "image/png": "[encoded data removed]",
            "text/plain": [
              "<Figure size 288x288 with 1 Axes>"
            ]
          },
          "metadata": {
            "tags": [],
            "needs_background": "light"
          }
        }
      ]
    },
    {
      "cell_type": "markdown",
      "metadata": {
        "id": "wegY_yjt7Fj0",
        "colab_type": "text"
      },
      "source": [
        "Report the accuracy in each CV as well as the mean accuracy.  \n",
        "Note:\n",
        "* k is set to 3, all other parameters are default unless otherwise noted."
      ]
    },
    {
      "cell_type": "code",
      "metadata": {
        "id": "DithkbfQ7Fj1",
        "colab_type": "code",
        "colab": {
          "base_uri": "https://localhost:8080/",
          "height": 238
        },
        "outputId": "244b5e85-3fdd-498d-c423-5aebb92170e2"
      },
      "source": [
        "from sklearn.model_selection import cross_val_score\n",
        "\n",
        "# Use Cross validation on the digits dataset using the KNN classifier with k set to 3\n",
        "X = digits.data\n",
        "y = digits.target\n",
        "\n",
        "#Split transformed features and target data into train and test splits\n",
        "X_train, X_test, y_train, y_test = train_test_split(X, y, test_size=0.25, random_state=24)\n",
        "\n",
        "print(\"X_train Shape:\", X_train.shape)\n",
        "print(\"X_test Shape:\", X_test.shape)\n",
        "print(\"y_train Shape:\", y_train.shape)\n",
        "print(\"y_test Shape:\", y_test.shape)\n",
        "\n",
        "# Create the KNN classifier model\n",
        "knn = KNeighborsClassifier(n_neighbors = 3)\n",
        "cv_scores = cross_val_score(knn, X_train, y_train, cv=10)\n",
        "\n",
        "print('\\nAccuracy for each round: \\n', cv_scores)\n",
        "print('\\nAverage accuracy: %.4f +- %.4f' % (cv_scores.mean(), cv_scores.std()))\n",
        "\n",
        "knn.fit(X_train, y_train)"
      ],
      "execution_count": 97,
      "outputs": [
        {
          "output_type": "stream",
          "text": [
            "X_train Shape: (1347, 64)\n",
            "X_test Shape: (450, 64)\n",
            "y_train Shape: (1347,)\n",
            "y_test Shape: (450,)\n",
            "\n",
            "Accuracy for each round: \n",
            " [0.97777778 0.96296296 1.         0.99259259 1.         1.\n",
            " 0.98518519 0.98507463 0.97014925 0.97014925]\n",
            "\n",
            "Average accuracy: 0.9844 +- 0.0131\n"
          ],
          "name": "stdout"
        },
        {
          "output_type": "execute_result",
          "data": {
            "text/plain": [
              "KNeighborsClassifier(algorithm='auto', leaf_size=30, metric='minkowski',\n",
              "                     metric_params=None, n_jobs=None, n_neighbors=3, p=2,\n",
              "                     weights='uniform')"
            ]
          },
          "metadata": {
            "tags": []
          },
          "execution_count": 97
        }
      ]
    },
    {
      "cell_type": "markdown",
      "metadata": {
        "id": "rYJUsdAg7Fj6",
        "colab_type": "text"
      },
      "source": [
        "# Perceptron\n"
      ]
    },
    {
      "cell_type": "markdown",
      "metadata": {
        "id": "2T60ustm7Fj7",
        "colab_type": "text"
      },
      "source": [
        "Given that you have experienced the instance-based classification algorithm, let's try a model-based classificaftion algorithm.\n",
        "For the same classification task, please try to build and test a Percetron model, a simple classification model solved by the gradient descent method. Refer to https://scikit-learn.org/stable/modules/linear_model.html#perceptron for more detail."
      ]
    },
    {
      "cell_type": "code",
      "metadata": {
        "id": "XDE4xBXn7Fj9",
        "colab_type": "code",
        "colab": {
          "base_uri": "https://localhost:8080/",
          "height": 136
        },
        "outputId": "4523cfff-d2e4-43ce-a8c1-2f188f7ea4e3"
      },
      "source": [
        "from sklearn.linear_model import Perceptron\n",
        "\n",
        "# Create the Perceptron classifier\n",
        "perceptron = Perceptron(random_state=0)\n",
        "\n",
        "# Apply cross validation on the perceptron model\n",
        "cv_scores = cross_val_score(perceptron, X_train, y_train, cv=10)\n",
        "\n",
        "print('Accuracy for each round: \\n', cv_scores)\n",
        "print('\\nAverage accuracy: %.4f +- %.4f' % (cv_scores.mean(), cv_scores.std()))\n",
        "\n",
        "perceptron.fit(X_train, y_train)\n",
        "\n",
        "print(\"\\nPerceptron Score:\", perceptron.score(X_train,y_train))"
      ],
      "execution_count": 102,
      "outputs": [
        {
          "output_type": "stream",
          "text": [
            "Accuracy for each round: \n",
            " [0.94814815 0.9037037  0.94814815 0.92592593 0.93333333 0.94814815\n",
            " 0.93333333 0.92537313 0.92537313 0.94776119]\n",
            "\n",
            "Average accuracy: 0.9339 +- 0.0139\n",
            "\n",
            "Perceptron Score: 0.9725315515961396\n"
          ],
          "name": "stdout"
        }
      ]
    },
    {
      "cell_type": "code",
      "metadata": {
        "id": "WRfgZlzGumrQ",
        "colab_type": "code",
        "colab": {
          "base_uri": "https://localhost:8080/",
          "height": 384
        },
        "outputId": "1261762c-c5da-4cdb-b557-f127e04384ec"
      },
      "source": [
        "# Test the perceptron model on the test dataset\n",
        "y_pred = perceptron.predict(X_test)\n",
        "\n",
        "#Get the accuracy of the model\n",
        "accuracy = accuracy_score(y_pred, y_test)\n",
        "print('Testing accuracy is: ', accuracy)\n",
        "\n",
        "fig, ax = plt.subplots(figsize=(8, 5))\n",
        "\n",
        "plot_confusion_matrix(perceptron, X_test, y_test, display_labels=digits.target_names, cmap=plt.cm.Blues, ax=ax)\n",
        "plt.title('Test Data - Confusion Matrix')"
      ],
      "execution_count": 100,
      "outputs": [
        {
          "output_type": "stream",
          "text": [
            "Testing accuracy is:  0.9533333333333334\n"
          ],
          "name": "stdout"
        },
        {
          "output_type": "execute_result",
          "data": {
            "text/plain": [
              "Text(0.5, 1.0, 'Test Data - Confusion Matrix')"
            ]
          },
          "metadata": {
            "tags": []
          },
          "execution_count": 100
        },
        {
          "output_type": "display_data",
          "data": {
            "image/png": "[encoded data removed]",
            "text/plain": [
              "<Figure size 576x360 with 2 Axes>"
            ]
          },
          "metadata": {
            "tags": [],
            "needs_background": "light"
          }
        }
      ]
    },
    {
      "cell_type": "markdown",
      "metadata": {
        "id": "Eo9DAjc97FkC",
        "colab_type": "text"
      },
      "source": [
        "Contrary to the KNN classifier, Perceptron has to learn a set of model parameters (the coefficients and the intercept). Please display the learned parameters. Refer to the following link to get the information about the Attributes of the Python Percepton oject: https://scikit-learn.org/stable/modules/generated/sklearn.linear_model.Perceptron.html#sklearn.linear_model.Perceptron."
      ]
    },
    {
      "cell_type": "code",
      "metadata": {
        "id": "BLQy964A7FkC",
        "colab_type": "code",
        "colab": {
          "base_uri": "https://localhost:8080/",
          "height": 1000
        },
        "outputId": "3d0f558c-9bf9-4a8d-f678-3303cb6b080a"
      },
      "source": [
        "print(\"Perceptron Coefficients:\", perceptron.coef_)\n",
        "print(\"Perceptron Intercept:\", perceptron.intercept_)"
      ],
      "execution_count": 108,
      "outputs": [
        {
          "output_type": "stream",
          "text": [
            "Perceptron Coefficients: [[   0.  -15.  -35.   18.  -42.  -96.  -42.   -5.    0.  -44.  -13.   17.\n",
            "    45.   57.  -12.   -6.    0.   26.   36.  -57. -114.  107.  -18.  -10.\n",
            "     0.   36.   17.  -95. -210.   16.  -11.   -2.    0.   30.   64.  -76.\n",
            "  -184.  -55.    1.    0.   -4.  -20.  119. -104.  -90.   -1.   10.    0.\n",
            "   -16.  -46.   50.   -6.   33.   -8.  -51.   -5.    0.  -21.  -61.   52.\n",
            "   -84.  -39.  -38.  -11.]\n",
            " [   0.  -54.    4.   73. -378.  149.  -81.  -22.   -1. -356. -274. -208.\n",
            "    29.  143. -137.  -21.   22.   42.   78.  453.  259.  -65.   -3.   -8.\n",
            "     3.   -2.   48.   83. -118.   65. -231.    0.    0. -131.   45.  -63.\n",
            "    94.  -79. -201.    0.    0. -253.  -61.  -47.  -46. -188. -145.   -1.\n",
            "    -6. -113.  -58.  116.   77.  -88. -145.  109.   -2.  -49. -118.    5.\n",
            "    24.  156. -139.   87.]\n",
            " [   0.    5.   22.   -2.  -33.  -90.  -41.    0.   -2.   36.   35.  -25.\n",
            "    78.  -10.   -3.    0.   -1.  -28.   26. -109.   50.   15.   14.    0.\n",
            "     0.  -90. -223. -182.  -79.   29.  -44.    0.    0.  -66. -164.  -33.\n",
            "   -59. -104. -127.    0.    0.   54.   26.  150. -139. -159. -127.    1.\n",
            "     3.   89.   14.  134.   66.  107.   30.   -1.    1.   14.   31.  -20.\n",
            "   -37.   77.  112.   23.]\n",
            " [   0.   13. -107.   -8.  188.  -25.    9.  -29.   -1.  -21.  112.   25.\n",
            "    45.  144.  213.  -28.   -1.   48. -179. -213.   88. -112.  -29.  -15.\n",
            "     0. -136. -291.    3.   -4. -233. -317.    0.    0.  -64.  -38.  -37.\n",
            "   -47.   55.  -73.    0.    0.   14. -135. -413.  113.  148.  154.   -4.\n",
            "     0.  -42.    3.  -79.  -47.   40.  148.  -47.    0.    3.   55.  -43.\n",
            "    18.  -77.  -22. -147.]\n",
            " [   0.   -4.  -67. -212.  -76. -155. -138.   15.    0.   15.  -68. -125.\n",
            "  -174.  -52.  -99.   21.   -2.   61.  117.   53.   27.   43.    5.   24.\n",
            "     4.   38.  136.  -38.  -10.  -22.  165.    3.    0.   33.   54.  -35.\n",
            "    84.   16.   78.    0.    9.  140.  -10.  171.   83.   42.   13.    0.\n",
            "    16.   79. -108.  -13.    7.  -87. -124.   -1.    0.  -19.  -62. -114.\n",
            "   -58. -140.  -51.    0.]\n",
            " [   0.    5.  169.  -54.   -1.  150.  211.  -26.    1.   20.   30.   36.\n",
            "    -4.  -49. -107.  -23.  -10.  -54.  146.   34. -172. -307. -336.   -5.\n",
            "    -7.    0.  154.  -87.   75.  -92. -289.    0.    0.  -34.   28.  -84.\n",
            "  -116.  -77.    9.    0.    0. -117. -127. -133.  -81.   79.    5.    0.\n",
            "     0.   14. -118.  -46.  -20.  -53.  -96.   -9.    0.   17.  124.   50.\n",
            "   -37.  -83.  -98.  -51.]\n",
            " [   0.  -20. -151.  -38.  -71.  -35.  -36.    0.   -2. -121.  -63. -120.\n",
            "  -177.  -50.   -7.    0.   -5.  -64.   59.    7. -165. -329.  -61.    0.\n",
            "    -2.   29.   -9.  108.   -8.  -50. -188.    0.    0.   52.   88.  110.\n",
            "   -91.   -6.  -18.    0.   -3. -202.  236.   14.  -45.   27.  156.   21.\n",
            "     0. -105.  143.  116. -138.  116.   64.  -59.    0.  -18. -167. -128.\n",
            "  -154.   67.  -49.  -66.]\n",
            " [   0.  -53.    7.   36.   16.  113.   83.   23.    0.  -46.   62.   16.\n",
            "   201.   29.  -25.   39.    0. -111. -137.  -79.  -37.   56.   74.    4.\n",
            "     0. -145.   -8. -117.  -29.   95.   17.   -3.    0.   33.  -17.   12.\n",
            "    15.   70.  120.    0.    0.  -60.   20.   52.   33.   10.  -31.    0.\n",
            "     0.  -44.  -11.  -14. -210. -268.  -89.    0.    0.  -63.  -57.  -89.\n",
            "  -171. -146.  -60.   -4.]\n",
            " [   0.  -36.    0. -195.  -99.  -94. -238.  -66.   21.   31.  185.    6.\n",
            "  -119.  157.   11.   -9.   -6.  106.   93.    1.    2.   96.  134.   -7.\n",
            "    -9. -199.  -83.  163. -124.   -2. -165.   -2.    0. -196.  -91.  230.\n",
            "    14. -189. -402.    0.   -1.   34.  177.   42.   47.  158.  -49.   -9.\n",
            "    -3.  -94.  129. -237. -139.   46.   66.  -37.   -1.  -63. -381.   64.\n",
            "   -30.  -92. -173.  -37.]\n",
            " [   0.  -35. -125.   34.  -22. -164.  -27.  -65.   -1.   50.   49.   20.\n",
            "     5.  -20.  108.  -27.   -3.   16.  113.   58.   23.  325.  -43.  -31.\n",
            "    -1.  -92.   55.  169.  -57.  193.  -12.   -2.    0. -326. -103.  261.\n",
            "  -203. -130.  -51.    0.    0.  -40. -324. -483. -239. -119.  -93.    0.\n",
            "     0.   80.  -54.  -55.  -49.  -80.  -20.   31.    0.  -29. -111.  -50.\n",
            "    -6.  -39. -122.  -23.]]\n",
            "Perceptron Intercept: [ -4. -66.  -9. -11.   1. -19. -18.  -3. -58. -32.]\n"
          ],
          "name": "stdout"
        }
      ]
    },
    {
      "cell_type": "markdown",
      "metadata": {
        "id": "g2XENF5s7FkI",
        "colab_type": "text"
      },
      "source": [
        "It is worth noting that Perceptron is a classification algorithm which shares the same underlying implementation with SGDClassifier\n",
        "(https://scikit-learn.org/stable/modules/generated/sklearn.linear_model.SGDClassifier.html#sklearn.linear_model.SGDClassifier). So, it would also interesting to explore SGDClassifier."
      ]
    },
    {
      "cell_type": "code",
      "metadata": {
        "id": "3UNpXzgl7FkJ",
        "colab_type": "code",
        "colab": {}
      },
      "source": [
        ""
      ],
      "execution_count": null,
      "outputs": []
    }
  ]
}